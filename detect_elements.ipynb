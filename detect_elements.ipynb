{
 "cells": [
  {
   "cell_type": "code",
   "execution_count": 2,
   "metadata": {},
   "outputs": [
    {
     "name": "stdout",
     "output_type": "stream",
     "text": [
      "<svg:path d=\"m 0,0 h 0.96 c 0.48,-0.96 0.48,-1.44 0.96,-1.44 0.48,-0.48 0.48,-0.48 0.96,-0.48 0.96,0 1.44,0 1.92,0.48 0,0.48 0.48,0.96 0.48,1.44 0,0.48 -0.48,0.96 -0.48,1.44 -0.48,0.48 -0.96,0.48 -1.44,0.48 -0.48,0 -0.48,0 -0.96,0 v 0.96 c 0,0 0,0 0.48,0 0.48,0 0.96,0.48 1.44,0.48 0,0.48 0.48,0.96 0.48,1.44 0,0.48 0,0.96 -0.48,0.96 C 3.84,6.24 3.36,6.24 2.88,6.24 2.4,6.24 2.4,6.24 1.92,5.76 1.44,5.76 1.44,5.28 1.44,4.32 L 0,4.8 C 0,5.28 0.48,6.24 0.96,6.72 1.44,7.2 2.4,7.2 2.88,7.2 c 0.48,0 1.44,0 1.92,-0.48 0,0 0.48,-0.48 0.96,-0.96 0,0 0,-0.48 0,-0.96 0,-0.48 0,-0.96 0,-1.44 C 5.28,3.36 5.28,2.88 4.8,2.4 5.28,2.4 5.76,2.4 5.76,1.92 6.24,1.44 6.72,0.96 6.72,0 6.72,-0.96 6.24,-1.44 5.76,-1.92 4.8,-2.88 3.84,-2.88 2.88,-2.88 2.4,-2.88 1.44,-2.88 0.96,-2.4 0.48,-1.92 0,-0.96 0,0 Z m 11.52,-2.88 v 2.4 H 7.2 V 0.48 L 12,7.2 h 0.96 V 0.48 h 1.44 v -0.96 h -1.44 v -2.4 z m 0,3.36 v 4.8 L 8.64,0.48 Z m 7.2,-3.36 V 6.24 H 15.36 V 7.2 h 8.16 V 6.24 h -3.36 v -9.12 z m 5.76,0 V 7.2 h 3.84 c 0.96,0 1.44,0 1.92,0 0.48,-0.48 0.96,-0.96 1.44,-0.96 0,-0.48 0,-0.96 0,-1.44 0,-0.48 0,-0.96 0,-1.44 C 31.2,2.88 30.72,2.88 30.24,2.4 31.2,2.4 31.68,1.92 31.68,1.44 32.16,0.96 32.16,0.48 32.16,0 c 0,-0.48 0,-0.96 0,-1.44 -0.48,0 -0.48,-0.48 -0.96,-0.96 0,0 -0.48,0 -0.96,-0.48 -0.48,0 -0.96,0 -1.44,0 z m 1.44,5.76 h 2.4 c 0.48,0 0.96,0 0.96,0.48 0.48,0 0.96,0 0.96,0.48 0,0 0.48,0.48 0.48,0.48 0,0.48 -0.48,0.96 -0.48,0.96 0,0.48 -0.48,0.48 -0.48,0.48 -0.48,0.48 -0.96,0.48 -1.92,0.48 h -1.92 z m 0,-4.32 h 2.88 c 0,0 0.48,0 0.48,0 0.48,0 0.96,0 0.96,0 0,0 0.48,0.48 0.48,0.48 0,0.48 0.48,0.48 0.48,0.96 0,0.48 -0.48,0.96 -0.48,0.96 0,0.48 -0.48,0.48 -0.96,0.48 0,0.48 -0.96,0.48 -1.44,0.48 h -2.4 z m 8.16,-1.44 V 7.2 h 3.84 c 0.96,0 1.44,0 1.44,0 0.48,0 0.96,-0.48 1.44,-0.48 0.48,-0.48 0.48,-0.48 0.96,-0.96 0,-0.48 0,-0.96 0,-1.44 0,-0.96 0,-1.44 -0.48,-2.4 C 40.8,1.44 39.36,1.44 37.92,1.44 h -2.4 v -4.32 z m 1.44,5.28 h 2.88 c 0.48,0 1.44,0 1.44,0.48 0.48,0.48 0.48,0.96 0.48,1.44 0,0.48 0,0.96 0,0.96 -0.48,0.48 -0.48,0.48 -0.96,0.48 0,0.48 -0.48,0.48 -1.44,0.48 h -2.4 z m 13.92,2.4 h -0.96 c 0,0.48 -0.48,0.96 -0.48,0.96 -0.48,0.48 -0.96,0.48 -1.44,0.48 -0.48,0 -0.48,0 -0.96,-0.48 -0.48,0 -0.48,-0.48 -0.96,-0.96 0,-0.48 -0.48,-1.44 -0.48,-2.4 0.48,0.48 0.96,0.96 1.44,0.96 0.48,0 0.48,0.48 0.96,0.48 0.96,0 1.92,-0.48 2.4,-0.96 C 49.44,2.4 49.92,1.44 49.92,0.48 49.92,0 49.44,-0.96 49.44,-1.44 48.96,-1.92 48.48,-2.4 48,-2.4 c -0.48,-0.48 -0.96,-0.48 -1.44,-0.48 -0.96,0 -1.92,0 -2.4,0.96 C 43.2,-0.96 43.2,0 43.2,1.92 c 0,1.92 0.48,3.36 0.96,4.32 0.48,0.48 1.44,0.96 2.4,0.96 0.96,0 1.44,0 1.92,-0.48 0.48,-0.48 0.96,-0.96 0.96,-1.92 z m -4.8,-4.32 c 0,-0.48 0,-0.96 0,-1.44 0.48,-0.48 0.48,-0.48 0.96,-0.96 0.48,0 0.48,0 0.96,0 0.48,0 0.96,0 1.44,0.48 0.48,0.48 0.48,0.96 0.48,1.92 0,0.48 0,0.96 -0.48,1.44 C 47.52,2.4 47.04,2.4 46.56,2.4 46.08,2.4 45.6,2.4 45.12,1.92 44.64,1.44 44.64,0.96 44.64,0.48 Z M 50.88,0 h 1.44 c 0,-0.96 0.48,-1.44 0.48,-1.44 0.48,-0.48 0.96,-0.48 1.44,-0.48 0.48,0 0.96,0 1.44,0.48 0.48,0.48 0.96,0.96 0.96,1.92 0,0.48 -0.48,1.44 -0.96,1.44 -0.48,0.48 -0.96,0.96 -1.44,0.96 -0.48,0 -0.96,0 -0.96,-0.48 -0.48,0 -0.48,-0.48 -0.96,-0.48 h -0.96 l 0.96,5.28 h 4.8 V 5.76 H 53.28 L 52.8,3.36 c 0.48,0.48 0.96,0.48 1.92,0.48 0.96,0 1.44,-0.48 1.92,-0.96 0.96,-0.48 0.96,-1.44 0.96,-2.4 0,-0.96 0,-1.44 -0.48,-2.4 -0.96,-0.48 -1.92,-0.96 -2.88,-0.96 -0.96,0 -1.44,0 -2.4,0.48 -0.48,0.48 -0.96,1.44 -0.96,2.4 z m 8.16,0 H 60 c 0.48,-0.96 0.48,-1.44 0.96,-1.44 0.48,-0.48 0.48,-0.48 0.96,-0.48 0.96,0 1.44,0 1.92,0.48 0,0.48 0.48,0.96 0.48,1.44 0,0.48 -0.48,0.96 -0.48,1.44 -0.48,0.48 -0.96,0.48 -1.44,0.48 -0.48,0 -0.48,0 -0.96,0 v 0.96 c 0,0 0,0 0.48,0 0.48,0 0.96,0.48 1.44,0.48 0,0.48 0.48,0.96 0.48,1.44 0,0.48 0,0.96 -0.48,0.96 -0.48,0.48 -0.96,0.48 -1.44,0.48 -0.48,0 -0.48,0 -0.96,-0.48 -0.48,0 -0.48,-0.48 -0.48,-1.44 L 59.04,4.8 c 0,0.48 0.48,1.44 0.96,1.92 0.48,0.48 1.44,0.48 1.92,0.48 0.48,0 1.44,0 1.92,-0.48 0,0 0.48,-0.48 0.96,-0.96 0,0 0,-0.48 0,-0.96 0,-0.48 0,-0.96 0,-1.44 -0.48,0 -0.48,-0.48 -0.96,-0.96 0.48,0 0.96,0 0.96,-0.48 0.48,-0.48 0.96,-0.96 0.96,-1.92 0,-0.96 -0.48,-1.44 -0.96,-1.92 -0.96,-0.96 -1.92,-0.96 -2.88,-0.96 -0.48,0 -1.44,0 -1.92,0.48 -0.48,0.48 -0.96,1.44 -0.96,2.4 z m 11.52,-2.88 v 2.4 h -4.32 v 0.96 l 4.8,6.72 H 72 V 0.48 h 1.44 V -0.48 H 72 v -2.4 z m 0,3.36 v 4.8 l -2.88,-4.8 z\" id=\"path59994\" style=\"fill:#000000;fill-opacity:1;fill-rule:nonzero;stroke:none\"/>\n",
      "Length of 'd' attribute: 4346\n",
      "Parent Element: g\n",
      "id: g59992\n",
      "transform: translate(420.48,1101.6)\n",
      "Parent Element: g\n",
      "id: g59990\n",
      "transform: translate(16.8)\n",
      "Parent Element: g\n",
      "id: g8\n",
      "transform: matrix(1.3333333,0,0,-1.3333333,0,2784)\n",
      "Parent Element: svg\n",
      "version: 1.1\n",
      "id: svg2\n",
      "xml:space: preserve\n",
      "width: 2016\n",
      "height: 2784\n",
      "viewBox: 0 0 2016 2784\n",
      "xmlns:xlink: http://www.w3.org/1999/xlink\n",
      "xmlns: http://www.w3.org/2000/svg\n",
      "xmlns:svg: http://www.w3.org/2000/svg\n",
      "Parent Element: [document]\n",
      "<svg:path d=\"m 0,0 h 0.96 c 0.48,-0.96 0.48,-1.44 0.96,-1.44 0.48,-0.48 0.48,-0.48 0.96,-0.48 0.96,0 1.44,0 1.92,0.48 0,0.48 0.48,0.96 0.48,1.44 0,0.48 -0.48,0.96 -0.48,1.44 -0.48,0.48 -0.96,0.48 -1.44,0.48 -0.48,0 -0.48,0 -0.96,0 v 0.96 c 0,0 0,0 0.48,0 0.48,0 0.96,0.48 1.44,0.48 0,0.48 0.48,0.96 0.48,1.44 0,0.48 0,0.96 -0.48,0.96 C 3.84,6.24 3.36,6.24 2.88,6.24 2.4,6.24 2.4,6.24 1.92,5.76 1.44,5.76 1.44,5.28 1.44,4.32 L 0,4.8 C 0,5.28 0.48,6.24 0.96,6.72 1.44,7.2 2.4,7.2 2.88,7.2 c 0.48,0 1.44,0 1.92,-0.48 0,0 0.48,-0.48 0.96,-0.96 0,0 0,-0.48 0,-0.96 0,-0.48 0,-0.96 0,-1.44 C 5.28,3.36 5.28,2.88 4.8,2.4 5.28,2.4 5.76,2.4 5.76,1.92 6.24,1.44 6.72,0.96 6.72,0 6.72,-0.96 6.24,-1.44 5.76,-1.92 4.8,-2.88 3.84,-2.88 2.88,-2.88 2.4,-2.88 1.44,-2.88 0.96,-2.4 0.48,-1.92 0,-0.96 0,0 Z m 11.52,-2.88 v 2.4 H 7.2 V 0.48 L 12,7.2 h 0.96 V 0.48 h 1.44 v -0.96 h -1.44 v -2.4 z m 0,3.36 v 4.8 L 8.64,0.48 Z m 7.2,-3.36 V 6.24 H 15.36 V 7.2 h 8.16 V 6.24 h -3.36 v -9.12 z m 5.76,0 V 7.2 h 3.84 c 0.96,0 1.44,0 1.92,0 0.48,-0.48 0.96,-0.96 1.44,-0.96 0,-0.48 0,-0.96 0,-1.44 0,-0.48 0,-0.96 0,-1.44 C 31.2,2.88 30.72,2.88 30.24,2.4 31.2,2.4 31.68,1.92 31.68,1.44 32.16,0.96 32.16,0.48 32.16,0 c 0,-0.48 0,-0.96 0,-1.44 -0.48,0 -0.48,-0.48 -0.96,-0.96 0,0 -0.48,0 -0.96,-0.48 -0.48,0 -0.96,0 -1.44,0 z m 1.44,5.76 h 2.4 c 0.48,0 0.96,0 0.96,0.48 0.48,0 0.96,0 0.96,0.48 0,0 0.48,0.48 0.48,0.48 0,0.48 -0.48,0.96 -0.48,0.96 0,0.48 -0.48,0.48 -0.48,0.48 -0.48,0.48 -0.96,0.48 -1.92,0.48 h -1.92 z m 0,-4.32 h 2.88 c 0,0 0.48,0 0.48,0 0.48,0 0.96,0 0.96,0 0,0 0.48,0.48 0.48,0.48 0,0.48 0.48,0.48 0.48,0.96 0,0.48 -0.48,0.96 -0.48,0.96 0,0.48 -0.48,0.48 -0.96,0.48 0,0.48 -0.96,0.48 -1.44,0.48 h -2.4 z m 8.16,-1.44 V 7.2 h 3.84 c 0.96,0 1.44,0 1.44,0 0.48,0 0.96,-0.48 1.44,-0.48 0.48,-0.48 0.48,-0.48 0.96,-0.96 0,-0.48 0,-0.96 0,-1.44 0,-0.96 0,-1.44 -0.48,-2.4 C 40.8,1.44 39.36,1.44 37.92,1.44 h -2.4 v -4.32 z m 1.44,5.28 h 2.88 c 0.48,0 1.44,0 1.44,0.48 0.48,0.48 0.48,0.96 0.48,1.44 0,0.48 0,0.96 0,0.96 -0.48,0.48 -0.48,0.48 -0.96,0.48 0,0.48 -0.48,0.48 -1.44,0.48 h -2.4 z M 43.2,5.76 V 7.2 h 6.72 V 6.24 C 48.96,5.28 48.48,4.8 48,3.36 47.04,2.4 46.56,0.96 46.56,0 46.08,-0.96 46.08,-1.92 46.08,-2.88 h -1.44 c 0,0.96 0,1.92 0.48,2.88 0.48,0.96 0.96,2.4 1.44,3.36 0.48,0.96 0.96,1.92 1.44,2.4 z M 50.88,0 h 1.44 c 0,-0.96 0.48,-1.44 0.48,-1.44 0.48,-0.48 0.96,-0.48 1.44,-0.48 0.48,0 0.96,0 1.44,0.48 0.48,0.48 0.96,0.96 0.96,1.92 0,0.48 -0.48,1.44 -0.96,1.44 -0.48,0.48 -0.96,0.96 -1.44,0.96 -0.48,0 -0.96,0 -0.96,-0.48 -0.48,0 -0.48,-0.48 -0.96,-0.48 h -0.96 l 0.96,5.28 h 4.8 V 5.76 H 53.28 L 52.8,3.36 c 0.48,0.48 0.96,0.48 1.92,0.48 0.96,0 1.44,-0.48 1.92,-0.96 0.96,-0.48 0.96,-1.44 0.96,-2.4 0,-0.96 0,-1.44 -0.48,-2.4 -0.96,-0.48 -1.92,-0.96 -2.88,-0.96 -0.96,0 -1.44,0 -2.4,0.48 -0.48,0.48 -0.96,1.44 -0.96,2.4 z m 8.16,0 H 60 c 0.48,-0.96 0.48,-1.44 0.96,-1.44 0.48,-0.48 0.48,-0.48 0.96,-0.48 0.96,0 1.44,0 1.92,0.48 0,0.48 0.48,0.96 0.48,1.44 0,0.48 -0.48,0.96 -0.48,1.44 -0.48,0.48 -0.96,0.48 -1.44,0.48 -0.48,0 -0.48,0 -0.96,0 v 0.96 c 0,0 0,0 0.48,0 0.48,0 0.96,0.48 1.44,0.48 0,0.48 0.48,0.96 0.48,1.44 0,0.48 0,0.96 -0.48,0.96 -0.48,0.48 -0.96,0.48 -1.44,0.48 -0.48,0 -0.48,0 -0.96,-0.48 -0.48,0 -0.48,-0.48 -0.48,-1.44 L 59.04,4.8 c 0,0.48 0.48,1.44 0.96,1.92 0.48,0.48 1.44,0.48 1.92,0.48 0.48,0 1.44,0 1.92,-0.48 0,0 0.48,-0.48 0.96,-0.96 0,0 0,-0.48 0,-0.96 0,-0.48 0,-0.96 0,-1.44 -0.48,0 -0.48,-0.48 -0.96,-0.96 0.48,0 0.96,0 0.96,-0.48 0.48,-0.48 0.96,-0.96 0.96,-1.92 0,-0.96 -0.48,-1.44 -0.96,-1.92 -0.96,-0.96 -1.92,-0.96 -2.88,-0.96 -0.48,0 -1.44,0 -1.92,0.48 -0.48,0.48 -0.96,1.44 -0.96,2.4 z m 11.52,-2.88 v 2.4 h -4.32 v 0.96 l 4.8,6.72 H 72 V 0.48 h 1.44 V -0.48 H 72 v -2.4 z m 0,3.36 v 4.8 l -2.88,-4.8 z\" id=\"path60006\" style=\"fill:#000000;fill-opacity:1;fill-rule:nonzero;stroke:none\"/>\n",
      "Length of 'd' attribute: 3730\n",
      "Parent Element: g\n",
      "id: g60004\n",
      "transform: translate(985.92,1121.28)\n",
      "Parent Element: g\n",
      "id: g60002\n",
      "transform: translate(16.8)\n",
      "Parent Element: g\n",
      "id: g8\n",
      "transform: matrix(1.3333333,0,0,-1.3333333,0,2784)\n",
      "Parent Element: svg\n",
      "version: 1.1\n",
      "id: svg2\n",
      "xml:space: preserve\n",
      "width: 2016\n",
      "height: 2784\n",
      "viewBox: 0 0 2016 2784\n",
      "xmlns:xlink: http://www.w3.org/1999/xlink\n",
      "xmlns: http://www.w3.org/2000/svg\n",
      "xmlns:svg: http://www.w3.org/2000/svg\n",
      "Parent Element: [document]\n"
     ]
    }
   ],
   "source": [
    "from bs4 import BeautifulSoup\n",
    "\n",
    "# Open and read the SVG file\n",
    "with open('2782_3.svg', 'r') as file:\n",
    "    svg_content = file.read()\n",
    "\n",
    "# Parse the SVG content using BeautifulSoup with lxml's XML parser\n",
    "soup = BeautifulSoup(svg_content, 'xml')\n",
    "min_length = 3000\n",
    "max_length = 6000\n",
    "\n",
    "selected_paths = []\n",
    "\n",
    "for path in soup.find_all('path'):\n",
    "    d_length = len(path.get('d', ''))  # Get the length of the `d` attribute\n",
    "    if min_length <= d_length <= max_length:\n",
    "        selected_paths.append(path)\n",
    "\n",
    "# Output the paths or manipulate them as needed\n",
    "for path in selected_paths:\n",
    "    print(path)\n",
    "    print(\"Length of 'd' attribute:\", len(path['d']))\n",
    "    \n",
    "    # Traverse up the tree to print parent elements and their attributes\n",
    "    parent = path.parent\n",
    "    while parent:\n",
    "        print(\"Parent Element:\", parent.name)\n",
    "        for attribute, value in parent.attrs.items():\n",
    "            print(f\"{attribute}: {value}\")\n",
    "        parent = parent.parent"
   ]
  },
  {
   "cell_type": "code",
   "execution_count": null,
   "metadata": {},
   "outputs": [],
   "source": [
    "In this code: \"from bs4 import BeautifulSoup\n",
    "\n",
    "# Open and read the SVG file\n",
    "with open('2681_2.svg', 'r') as file:\n",
    "    svg_content = file.read()\n",
    "\n",
    "# Parse the SVG content using BeautifulSoup with lxml's XML parser\n",
    "soup = BeautifulSoup(svg_content, 'xml')\n",
    "min_length = 3000\n",
    "max_length = 6000\n",
    "\n",
    "# List to hold paths that meet criteria\n",
    "selected_paths = []\n",
    "\n",
    "for path in soup.find_all('path'):\n",
    "    d_length = len(path.get('d', ''))  # Get the length of the `d` attribute\n",
    "    if min_length <= d_length <= max_length:\n",
    "        selected_paths.append(path)\n",
    "\n",
    "# Output the paths or manipulate them as needed\n",
    "for path in selected_paths:\n",
    "    print(path)\n",
    "    print(\"Length of 'd' attribute:\", len(path['d']))\n",
    "\n",
    "\" how can i additionally print all parent elements of the found elements. But from the parents i just want to print there attributes and the corresponding values"
   ]
  },
  {
   "cell_type": "markdown",
   "metadata": {},
   "source": [
    "## find all used colors"
   ]
  },
  {
   "cell_type": "code",
   "execution_count": 25,
   "metadata": {},
   "outputs": [
    {
     "name": "stdout",
     "output_type": "stream",
     "text": [
      "{'#00ffff', '#00ff00', 'none', '#ff0000', '#000000', '#ffffff', '#ffff00'}\n"
     ]
    }
   ],
   "source": [
    "from bs4 import BeautifulSoup\n",
    "\n",
    "# Open and read the SVG file\n",
    "with open('2681_2.svg', 'r') as file:\n",
    "    svg_content = file.read()\n",
    "\n",
    "soup = BeautifulSoup(svg_content, 'xml')  # Use 'xml' parser for parsing SVG\n",
    "\n",
    "\n",
    "unique_colors = set()  # Set to store unique colors\n",
    "\n",
    "for path in soup.find_all('path'):\n",
    "    style = path.get('style')  # Get the style attribute of the path\n",
    "    if style:\n",
    "        styles = style.split(';')  # Split style into individual properties\n",
    "        fill_style = [s for s in styles if 'fill:' in s]  # Find the fill style\n",
    "        if fill_style:\n",
    "            color = fill_style[0].split(':')[1].strip()  # Extract the color value\n",
    "            unique_colors.add(color)  # Add to set of unique colors\n",
    "\n",
    "# Output the unique colors\n",
    "print(unique_colors)"
   ]
  },
  {
   "cell_type": "markdown",
   "metadata": {},
   "source": [
    "## find yellow cross element"
   ]
  },
  {
   "cell_type": "code",
   "execution_count": 26,
   "metadata": {},
   "outputs": [
    {
     "name": "stdout",
     "output_type": "stream",
     "text": [
      "<svg:path d=\"m 0,0 -5.76,-0.96 1.44,-2.4 -2.88,0.96 -1.92,-1.44 v 1.92 h -1.92 L -9.6,0 -12,1.44 -9.12,1.92 -8.64,3.84 -7.68,2.4 -4.32,5.76 -5.76,1.92 Z\" id=\"path168\" style=\"fill:#ffff00;fill-opacity:1;fill-rule:nonzero;stroke:none\"/>\n",
      "<svg:path d=\"m 0,0 -5.76,-0.96 1.44,-2.4 -2.88,0.96 -1.92,-1.44 v 1.92 h -1.92 L -9.6,0 -12,1.44 -9.12,1.92 -8.64,3.84 -7.68,2.4 -4.32,5.76 -5.76,1.92 Z\" id=\"path180\" style=\"fill:#ffff00;fill-opacity:1;fill-rule:nonzero;stroke:none\"/>\n",
      "<svg:path d=\"m 0,0 -5.76,-0.96 1.44,-2.4 -2.88,0.96 -1.92,-1.44 v 1.92 h -1.92 L -9.6,0 -12,1.44 -9.12,1.92 -8.64,3.84 -7.68,2.4 -4.32,5.76 -5.76,1.92 Z\" id=\"path192\" style=\"fill:#ffff00;fill-opacity:1;fill-rule:nonzero;stroke:none\"/>\n",
      "<svg:path d=\"m 0,0 -5.76,-0.96 1.44,-2.4 -2.88,0.96 -1.92,-1.44 v 1.92 h -1.92 L -9.6,0 -12,1.44 -9.12,1.92 -8.64,3.84 -7.68,2.4 -4.32,5.76 -5.76,1.92 Z\" id=\"path204\" style=\"fill:#ffff00;fill-opacity:1;fill-rule:nonzero;stroke:none\"/>\n",
      "<svg:path d=\"m 0,0 -5.76,-0.96 1.44,-2.4 -2.88,0.96 -1.92,-1.44 v 1.92 h -1.92 L -9.6,0 -12,1.44 -9.12,1.92 -8.64,3.84 -7.68,2.4 -4.32,5.76 -5.76,1.92 Z\" id=\"path216\" style=\"fill:#ffff00;fill-opacity:1;fill-rule:nonzero;stroke:none\"/>\n",
      "<svg:path d=\"m 0,0 -5.76,-0.96 1.44,-2.4 -2.88,0.96 -1.92,-1.44 v 1.92 h -1.92 L -9.6,0 -12,1.44 -9.12,1.92 -8.64,3.84 -7.68,2.4 -4.32,5.76 -5.76,1.92 Z\" id=\"path228\" style=\"fill:#ffff00;fill-opacity:1;fill-rule:nonzero;stroke:none\"/>\n",
      "<svg:path d=\"m 0,0 -5.76,-0.96 1.44,-2.4 -2.88,0.96 -1.92,-1.44 v 1.92 h -1.92 L -9.6,0 -12,1.44 -9.12,1.92 -8.64,3.84 -7.68,2.4 -4.32,5.76 -5.76,1.92 Z\" id=\"path240\" style=\"fill:#ffff00;fill-opacity:1;fill-rule:nonzero;stroke:none\"/>\n",
      "<svg:path d=\"M 0,0 V 4.32 H -4.8 V 4.8 H 0 v 4.32 0 V 4.8 H 4.8 V 4.32 H 0 Z\" id=\"path64998\" style=\"fill:#ffff00;fill-opacity:1;fill-rule:nonzero;stroke:none\"/>\n",
      "<svg:path d=\"M 0,0 V 4.32 H -4.8 V 4.8 H 0 v 4.32 0 V 4.8 H 4.8 V 4.32 H 0 Z\" id=\"path65010\" style=\"fill:#ffff00;fill-opacity:1;fill-rule:nonzero;stroke:none\"/>\n",
      "<svg:path d=\"M 0,0 -0.96,-3.84 4.32,-5.76 -1.44,-6.72 0,-9.12 -2.4,-7.68 -4.32,-9.6 v 1.92 h -1.92 l 1.44,1.92 -2.4,1.44 2.88,0.48 v 1.92 l 1.44,-1.44 z\" id=\"path65392\" style=\"fill:#ffff00;fill-opacity:1;fill-rule:nonzero;stroke:none\"/>\n"
     ]
    }
   ],
   "source": [
    "\n",
    "soup = BeautifulSoup(svg_content, 'xml')\n",
    "\n",
    "target_color = '#ffff00'\n",
    "paths_with_target_color = []\n",
    "\n",
    "for path in soup.find_all('path'):\n",
    "    # Check the fill attribute directly\n",
    "    if path.get('fill') == target_color:\n",
    "        paths_with_target_color.append(path)\n",
    "\n",
    "    # Check within the style attribute\n",
    "    elif path.get('style'):\n",
    "        styles = dict(item.split(':') for item in path['style'].split(';') if item)\n",
    "        if 'fill' in styles and styles['fill'].strip() == target_color:\n",
    "            paths_with_target_color.append(path)\n",
    "\n",
    "# Output the paths or manipulate them as needed\n",
    "for path in paths_with_target_color:\n",
    "    print(path)"
   ]
  },
  {
   "cell_type": "code",
   "execution_count": null,
   "metadata": {},
   "outputs": [],
   "source": [
    "import cairosvg\n",
    "\n",
    "# Function to convert SVG to PNG\n",
    "def svg_to_png(svg_input_path, png_output_path):\n",
    "    cairosvg.svg2png(url=svg_input_path, write_to=png_output_path)\n",
    "\n",
    "# Example usage\n",
    "svg_to_png(\"input.svg\", \"output.png\")"
   ]
  }
 ],
 "metadata": {
  "kernelspec": {
   "display_name": "mines",
   "language": "python",
   "name": "mines"
  },
  "language_info": {
   "codemirror_mode": {
    "name": "ipython",
    "version": 3
   },
   "file_extension": ".py",
   "mimetype": "text/x-python",
   "name": "python",
   "nbconvert_exporter": "python",
   "pygments_lexer": "ipython3",
   "version": "3.10.12"
  }
 },
 "nbformat": 4,
 "nbformat_minor": 2
}
