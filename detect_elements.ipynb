{
 "cells": [
  {
   "cell_type": "markdown",
   "metadata": {},
   "source": [
    "## Here we try to extract the MGRS (Military Grid Reference System) Coordinates from the svg element.\n",
    "\n",
    "We assume that the coordinates are created through path elements and display complex polygons as text. So we think the coordinates are just svg path elements with very long d attributes (between 3000 and 6000). After we found them we also try to reengineer the position of the element from the original svg. Therefore we look at the svg transformation from the parent elements of the specific path element which might be the coordinates. \n",
    "\n",
    "In the end we create a little png from the isolated svg path element and do OCR to get the Text machine readable from the svg path element. "
   ]
  },
  {
   "cell_type": "code",
   "execution_count": 24,
   "metadata": {},
   "outputs": [],
   "source": [
    "from bs4 import BeautifulSoup\n",
    "import cairosvg\n",
    "import pytesseract\n",
    "from PIL import Image"
   ]
  },
  {
   "cell_type": "code",
   "execution_count": null,
   "metadata": {},
   "outputs": [],
   "source": [
    "def find_mgrs_coordinates(pdf):\n",
    "    # Open and read the SVG file\n",
    "    with open(pdf, 'r') as file:\n",
    "        svg_content = file.read()\n",
    "\n",
    "    file_id = pdf.split(\".\")[0].split(\"/\")[-1]\n",
    "\n",
    "    # Parse the SVG content using BeautifulSoup with lxml's XML parser\n",
    "    soup = BeautifulSoup(svg_content, 'xml')\n",
    "    min_length = 2000\n",
    "    max_length = 6000\n",
    "\n",
    "    svg_elements = []\n",
    "\n",
    "    for path in soup.find_all('path'):\n",
    "        d_length = len(path.get('d', ''))  # Get the length of the `d` attribute\n",
    "        if min_length <= d_length <= max_length:\n",
    "            svg_elements.append(path)\n",
    "\n",
    "\n",
    "    #military grid reference system\n",
    "    mgrs_coordinates = []\n",
    "\n",
    "    count_coordinate = 0\n",
    "    # Output the paths or manipulate them as needed\n",
    "    for path in svg_elements:\n",
    "        count_coordinate += 1 # count how many coordinates appear in the pdf\n",
    "\n",
    "        print(path)\n",
    "        print(\"Length of 'd' attribute:\", len(path['d']))\n",
    "        # Traverse up the tree to print parent elements and their attributes\n",
    "        parent = path.parent\n",
    "\n",
    "        start_coordinates_path_element = ()\n",
    "\n",
    "        while parent:\n",
    "            print(\"Parent Element:\", parent.name)\n",
    "            for attribute, value in parent.attrs.items():\n",
    "\n",
    "                if attribute == \"transform\":\n",
    "                    \n",
    "                    print(f\"{attribute}: {value}\")\n",
    "                    # here we extract the start coordinate information  for the path element out of the transform attributes from the svg parent elements\n",
    "                    transformations = value.split(\"(\")[-1].split(\")\")[0].split(\",\")\n",
    "                    # if attribute transform has 1 or 2 elements its just a relocation (the function translate) of the coordinates in either x or x and y direction\n",
    "                    # if attribute transform has 6 elements its the function matrix. Here is what each position does:\n",
    "                    # 1. scaling x coordinates\n",
    "                    # 2. skewing transformation alongside x axis\n",
    "                    # 3. skewing transformation alongside y axis\n",
    "                    # 4. scaling y coordinates \n",
    "                    # 5. translation in x direction\n",
    "                    # 6. translation in y direction\n",
    "\n",
    "                    if len(transformations) == 2:\n",
    "                        start_coordinates_path_element = (float(transformations[0]), float(transformations[1]))\n",
    "                \n",
    "                    elif len(transformations) == 1:\n",
    "                        start_coordinates_path_element = (start_coordinates_path_element[0] + float(transformations[0]) , start_coordinates_path_element[1])\n",
    "\n",
    "                    elif len(transformations) == 6:\n",
    "\n",
    "                        #1. scaling x coordinates\n",
    "                        start_coordinates_path_element =  (start_coordinates_path_element[0] * float(transformations[0]), start_coordinates_path_element[1])\n",
    "\n",
    "                        #4. scaling y coordinates and 6. translate in y directio \n",
    "                        start_coordinates_path_element = (start_coordinates_path_element[0], (float(transformations[3]) * start_coordinates_path_element[1]) + float(transformations[5]) )\n",
    "\n",
    "\n",
    "                    print(\"neu berechnete Koordinaten: \")\n",
    "                    print(start_coordinates_path_element)\n",
    "            \n",
    "            parent = parent.parent\n",
    "        print(\"Endgültige Startkoordinatne für path Element: \")\n",
    "        print(start_coordinates_path_element)\n",
    "        \n",
    "        \n",
    "        #now we manipulate the svg path element in a way that we can create a picture out of it for OCR\n",
    "\n",
    "        svg_drawing = \"<\" + (str(path).split(\"/>\")[0] + ' transform=\"scale(1, -1) translate(0, -10)\"' + \"/>\").split(\"svg:\")[-1] \n",
    "        svg_drawing = '<svg xmlns=\"http://www.w3.org/2000/svg\" width=\"80\" height=\"20\">' + svg_drawing + '</svg>'\n",
    "\n",
    "        name = file_id + \"_num_\" + str(count_coordinate)\n",
    "\n",
    "        mgrs_coordinates.append({\"path\" : path, \"coordinates\": start_coordinates_path_element, \"svg_drawing\": svg_drawing, \"file_id\": name})\n",
    "    return mgrs_coordinates\n"
   ]
  },
  {
   "cell_type": "code",
   "execution_count": 25,
   "metadata": {},
   "outputs": [
    {
     "name": "stdout",
     "output_type": "stream",
     "text": [
      "<svg:path d=\"m 0,0 h 1.44 c 0.48,-0.48 0.48,-0.96 0.96,-0.96 0,-0.48 0.48,-0.48 0.48,-0.48 0.48,0 0.96,0 1.44,0.48 0,0.48 0,0.48 0,1.44 0,0.48 0,0.48 0,0.96 -0.48,0.48 -0.96,0.48 -0.96,0.48 -0.48,0 -0.96,0 -0.96,0 v 1.44 c 0.48,0 0.96,0 1.44,0.48 0,0 0.48,0.48 0.48,0.96 0,0 -0.48,0.48 -0.48,0.48 0,0.48 -0.48,0.48 -0.96,0.48 0,0 -0.48,0 -0.48,-0.48 C 1.92,5.28 1.92,4.8 1.92,4.32 L 0,4.8 c 0,0.48 0.48,0.96 0.48,1.44 0.48,0.48 0.48,0.48 0.96,0.96 0.48,0 0.96,0 1.44,0 0.96,0 1.92,0 2.4,-0.96 C 5.76,5.76 6.24,5.28 6.24,4.8 6.24,3.84 5.76,2.88 4.8,2.4 5.28,2.4 5.76,2.4 6.24,1.92 6.24,1.44 6.72,0.96 6.72,0 6.72,-0.48 6.24,-1.44 5.76,-1.92 4.8,-2.88 4.32,-2.88 3.36,-2.88 c -0.96,0 -1.92,0 -2.4,0.48 C 0.48,-1.92 0,-0.96 0,0 Z M 7.68,0 H 9.6 c 0,-0.48 0,-0.96 0.48,-0.96 0,-0.48 0.48,-0.48 0.96,-0.48 0.48,0 0.48,0 0.96,0.48 0.48,0.48 0.48,0.48 0.48,1.44 0,0.48 0,0.48 -0.48,0.96 -0.48,0.48 -0.48,0.48 -0.96,0.48 0,0 -0.48,0 -0.96,0 l 0.48,1.44 c 0.48,0 0.96,0 0.96,0.48 0.48,0 0.48,0.48 0.48,0.96 0,0 0,0.48 -0.48,0.48 0,0.48 -0.48,0.48 -0.48,0.48 -0.48,0 -0.96,0 -0.96,-0.48 C 9.6,5.28 9.6,4.8 9.6,4.32 L 7.68,4.8 c 0.48,0.48 0.48,0.96 0.48,1.44 0.48,0.48 0.96,0.48 1.44,0.96 0.48,0 0.96,0 1.44,0 0.96,0 1.44,0 2.4,-0.96 0.48,-0.48 0.48,-0.96 0.48,-1.44 0,-0.96 -0.48,-1.92 -1.44,-2.4 0.48,0 0.96,0 1.44,-0.48 C 14.4,1.44 14.4,0.96 14.4,0 c 0,-0.48 -0.48,-1.44 -0.96,-1.92 -0.48,-0.96 -1.44,-0.96 -2.4,-0.96 -0.96,0 -1.92,0 -2.4,0.48 C 8.16,-1.92 7.68,-0.96 7.68,0 Z M 18.24,-2.88 V 5.76 H 15.36 V 7.2 h 8.16 V 5.76 h -3.36 v -8.64 z m 7.68,0 -2.4,10.08 h 2.4 l 1.44,-6.72 1.92,6.72 h 2.4 L 33.6,0 35.04,7.2 h 1.92 l -2.4,-10.08 h -2.4 L 30.24,4.8 28.32,-2.88 Z m 12,0 V 7.2 h 2.4 V 2.88 l 3.84,4.32 h 2.88 L 43.2,3.36 47.04,-2.88 h -2.4 L 41.76,1.92 40.32,0 V -2.88 Z M 48,5.28 V 7.2 h 6.72 V 5.76 C 53.76,5.28 53.28,4.32 52.8,3.36 52.32,2.4 51.84,1.44 51.36,0 c 0,-0.96 -0.48,-1.92 -0.48,-2.88 h -1.44 c 0,1.44 0,2.88 0.48,4.32 0.48,1.44 1.44,2.88 2.4,3.84 z m 7.68,0 V 7.2 H 62.4 V 5.76 C 61.92,5.28 61.44,4.32 60.48,3.36 60,2.4 59.52,1.44 59.52,0 59.04,-0.96 59.04,-1.92 59.04,-2.88 h -1.92 c 0,1.44 0.48,2.88 0.96,4.32 0.48,1.44 0.96,2.88 1.92,3.84 z M 70.08,4.8 h -1.92 c 0,0 0,0.48 0,0.48 -0.48,0.48 -0.48,0.48 -0.96,0.48 -0.48,0 -0.96,0 -0.96,-0.48 -0.48,-0.48 -0.48,-1.44 -0.48,-2.4 0.48,0.48 0.96,0.96 1.44,0.96 0.96,0 1.92,-0.48 2.4,-0.96 0.48,-0.48 0.96,-1.44 0.96,-2.4 0,-0.96 -0.48,-1.92 -0.96,-2.4 -0.96,-0.96 -1.44,-0.96 -2.4,-0.96 -0.96,0 -1.92,0 -2.4,0.96 -0.96,0.96 -0.96,2.4 -0.96,3.84 0,1.92 0,3.36 0.96,4.32 0.48,0.48 1.44,0.96 2.4,0.96 0.96,0 1.44,0 1.92,-0.48 C 69.6,6.24 70.08,5.76 70.08,4.8 Z M 65.76,0.48 c 0,-0.48 0,-0.96 0.48,-1.44 0.48,-0.48 0.48,-0.48 0.96,-0.48 0.48,0 0.48,0 0.96,0.48 0,0 0.48,0.48 0.48,1.44 0,0.48 -0.48,0.96 -0.48,1.44 C 67.68,1.92 67.68,2.4 67.2,2.4 66.72,2.4 66.24,1.92 66.24,1.92 65.76,1.44 65.76,0.96 65.76,0.48 Z m 7.2,1.92 C 72.48,2.88 72.48,2.88 72,3.36 c 0,0.48 -0.48,0.96 -0.48,1.44 0,0.48 0.48,1.44 0.96,1.92 0.48,0.48 1.44,0.48 2.4,0.48 0.96,0 1.44,0 1.92,-0.48 0.96,-0.48 0.96,-1.44 0.96,-1.92 0,-0.48 0,-0.96 -0.48,-1.44 0,-0.48 -0.48,-0.48 -0.96,-0.96 0.48,0 0.96,-0.48 1.44,-0.96 0,-0.48 0.48,-0.96 0.48,-1.44 0,-0.96 -0.48,-1.44 -0.96,-2.4 -0.48,-0.48 -1.44,-0.48 -2.4,-0.48 -0.96,0 -1.92,0 -2.4,0.48 -0.48,0.48 -0.96,1.44 -0.96,2.4 0,0.48 0,0.96 0.48,1.44 0,0.48 0.48,0.96 0.96,0.96 z m 0.48,2.4 c 0,-0.48 0,-0.96 0.48,-0.96 0,-0.48 0.48,-0.48 0.96,-0.48 0.48,0 0.48,0 0.96,0.48 0,0 0,0.48 0,0.96 0,0 0,0.48 0,0.48 -0.48,0.48 -0.48,0.48 -0.96,0.48 -0.48,0 -0.96,0 -0.96,-0.48 -0.48,0 -0.48,-0.48 -0.48,-0.48 z m 0,-4.8 c 0,-0.48 0,-0.96 0.48,-0.96 0,-0.48 0.48,-0.48 0.96,-0.48 0.48,0 0.48,0 0.96,0.48 0,0 0.48,0.48 0.48,0.96 0,0.48 -0.48,0.96 -0.48,1.44 -0.48,0 -0.48,0.48 -0.96,0.48 C 74.4,1.92 73.92,1.44 73.92,1.44 73.44,0.96 73.44,0.48 73.44,0 Z\" id=\"path146708\" style=\"fill:#000000;fill-opacity:1;fill-rule:nonzero;stroke:none\"/>\n",
      "Length of 'd' attribute: 3808\n",
      "Parent Element: g\n",
      "transform: translate(361.44,1085.76)\n",
      "neu berechnete Koordinaten: \n",
      "(361.44, 1085.76)\n",
      "Parent Element: g\n",
      "transform: translate(16.8)\n",
      "neu berechnete Koordinaten: \n",
      "(378.24, 1085.76)\n",
      "Parent Element: g\n",
      "transform: matrix(1.3333333,0,0,-1.3333333,0,2781.7333)\n",
      "neu berechnete Koordinaten: \n",
      "(504.31998739200003, 1334.0533361919997)\n",
      "Parent Element: svg\n",
      "Parent Element: [document]\n",
      "Endgültige Startkoordinatne für path Element: \n",
      "(504.31998739200003, 1334.0533361919997)\n",
      "<svg:path d=\"m 0,0 h 1.44 c 0.48,-0.48 0.48,-0.96 0.96,-0.96 0,-0.48 0.48,-0.48 0.48,-0.48 0.48,0 0.96,0 1.44,0.48 0,0.48 0,0.48 0,1.44 0,0.48 0,0.48 0,0.96 -0.48,0.48 -0.96,0.48 -0.96,0.48 -0.48,0 -0.96,0 -0.96,0 v 1.44 c 0.48,0 0.96,0 1.44,0.48 0,0 0.48,0.48 0.48,0.96 0,0 -0.48,0.48 -0.48,0.48 0,0.48 -0.48,0.48 -0.96,0.48 0,0 -0.48,0 -0.48,-0.48 C 1.92,5.28 1.92,4.8 1.92,4.32 L 0,4.8 c 0,0.48 0.48,0.96 0.48,1.44 0.48,0.48 0.48,0.48 0.96,0.96 0.48,0 0.96,0 1.44,0 0.96,0 1.92,0 2.4,-0.96 C 5.76,5.76 6.24,5.28 6.24,4.8 6.24,3.84 5.76,2.88 4.8,2.4 5.28,2.4 5.76,2.4 6.24,1.92 6.24,1.44 6.72,0.96 6.72,0 6.72,-0.48 6.24,-1.44 5.76,-1.92 4.8,-2.88 4.32,-2.88 3.36,-2.88 c -0.96,0 -1.92,0 -2.4,0.48 C 0.48,-1.92 0,-0.96 0,0 Z M 7.68,0 H 9.6 c 0,-0.48 0,-0.96 0.48,-0.96 0,-0.48 0.48,-0.48 0.96,-0.48 0.48,0 0.48,0 0.96,0.48 0.48,0.48 0.48,0.48 0.48,1.44 0,0.48 0,0.48 -0.48,0.96 -0.48,0.48 -0.48,0.48 -0.96,0.48 0,0 -0.48,0 -0.96,0 l 0.48,1.44 c 0.48,0 0.96,0 0.96,0.48 0.48,0 0.48,0.48 0.48,0.96 0,0 0,0.48 -0.48,0.48 0,0.48 -0.48,0.48 -0.48,0.48 -0.48,0 -0.96,0 -0.96,-0.48 C 9.6,5.28 9.6,4.8 9.6,4.32 L 7.68,4.8 c 0.48,0.48 0.48,0.96 0.48,1.44 0.48,0.48 0.96,0.48 1.44,0.96 0.48,0 0.96,0 1.44,0 0.96,0 1.44,0 2.4,-0.96 0.48,-0.48 0.48,-0.96 0.48,-1.44 0,-0.96 -0.48,-1.92 -1.44,-2.4 0.48,0 0.96,0 1.44,-0.48 C 14.4,1.44 14.4,0.96 14.4,0 c 0,-0.48 -0.48,-1.44 -0.96,-1.92 -0.48,-0.96 -1.44,-0.96 -2.4,-0.96 -0.96,0 -1.92,0 -2.4,0.48 C 8.16,-1.92 7.68,-0.96 7.68,0 Z M 18.24,-2.88 V 5.76 H 15.36 V 7.2 h 8.16 V 5.76 h -3.36 v -8.64 z m 7.68,0 -2.4,10.08 h 2.4 l 1.44,-6.72 1.92,6.72 h 2.4 L 33.6,0 35.04,7.2 h 1.92 l -2.4,-10.08 h -2.4 L 30.24,4.8 28.32,-2.88 Z m 12,0 V 7.2 h 2.4 V 2.88 l 3.84,4.32 h 2.88 L 43.2,3.36 47.04,-2.88 h -2.4 L 41.76,1.92 40.32,0 V -2.88 Z M 49.44,2.4 C 48.96,2.88 48.48,2.88 48.48,3.36 48,3.84 48,4.32 48,4.8 c 0,0.48 0.48,1.44 0.96,1.92 0.48,0.48 0.96,0.48 2.4,0.48 0.96,0 1.44,0 1.92,-0.48 0.48,-0.48 0.96,-1.44 0.96,-1.92 0,-0.48 0,-0.96 -0.48,-1.44 0,-0.48 -0.48,-0.48 -0.96,-0.96 0.48,0 0.96,-0.48 1.44,-0.96 0,-0.48 0.48,-0.96 0.48,-1.44 0,-0.96 -0.48,-1.44 -0.96,-2.4 -0.96,-0.48 -1.44,-0.48 -2.4,-0.48 -0.96,0 -1.92,0 -2.4,0.48 C 48,-1.92 48,-0.96 48,0 c 0,0.48 0,0.96 0,1.44 0.48,0.48 0.96,0.96 1.44,0.96 z m 0.48,2.4 c 0,-0.48 0,-0.96 0.48,-0.96 0,-0.48 0.48,-0.48 0.96,-0.48 0,0 0.48,0 0.48,0.48 0.48,0 0.48,0.48 0.48,0.96 0,0 0,0.48 -0.48,0.48 0,0.48 -0.48,0.48 -0.48,0.48 -0.48,0 -0.96,0 -0.96,-0.48 -0.48,0 -0.48,-0.48 -0.48,-0.48 z m 0,-4.8 c 0,-0.48 0,-0.96 0,-0.96 0.48,-0.48 0.96,-0.48 1.44,-0.48 0,0 0.48,0 0.96,0.48 0,0 0.48,0.48 0.48,0.96 0,0.48 -0.48,0.96 -0.48,1.44 -0.48,0 -0.96,0.48 -0.96,0.48 -0.48,0 -0.96,-0.48 -1.44,-0.48 0,-0.48 0,-0.96 0,-1.44 z m 5.76,5.28 V 7.2 H 62.4 V 5.76 C 61.92,5.28 61.44,4.32 60.48,3.36 60,2.4 59.52,1.44 59.52,0 59.04,-0.96 59.04,-1.92 59.04,-2.88 h -1.92 c 0,1.44 0.48,2.88 0.96,4.32 0.48,1.44 0.96,2.88 1.92,3.84 z M 70.08,4.8 h -1.92 c 0,0 0,0.48 0,0.48 -0.48,0.48 -0.48,0.48 -0.96,0.48 -0.48,0 -0.96,0 -0.96,-0.48 -0.48,-0.48 -0.48,-1.44 -0.48,-2.4 0.48,0.48 0.96,0.96 1.44,0.96 0.96,0 1.92,-0.48 2.4,-0.96 0.48,-0.48 0.96,-1.44 0.96,-2.4 0,-0.96 -0.48,-1.92 -0.96,-2.4 -0.96,-0.96 -1.44,-0.96 -2.4,-0.96 -0.96,0 -1.92,0 -2.4,0.96 -0.96,0.96 -0.96,2.4 -0.96,3.84 0,1.92 0,3.36 0.96,4.32 0.48,0.48 1.44,0.96 2.4,0.96 0.96,0 1.44,0 1.92,-0.48 C 69.6,6.24 70.08,5.76 70.08,4.8 Z M 65.76,0.48 c 0,-0.48 0,-0.96 0.48,-1.44 0.48,-0.48 0.48,-0.48 0.96,-0.48 0.48,0 0.48,0 0.96,0.48 0,0 0.48,0.48 0.48,1.44 0,0.48 -0.48,0.96 -0.48,1.44 C 67.68,1.92 67.68,2.4 67.2,2.4 66.72,2.4 66.24,1.92 66.24,1.92 65.76,1.44 65.76,0.96 65.76,0.48 Z m 5.76,-0.96 h 1.92 c 0,0 0,-0.48 0.48,-0.48 0,-0.48 0.48,-0.48 0.48,-0.48 0.48,0 0.96,0 0.96,0.48 0.48,0.48 0.48,1.44 0.96,2.4 -0.48,-0.48 -1.44,-0.96 -1.92,-0.96 -0.96,0 -1.44,0.48 -2.4,0.96 -0.48,0.48 -0.48,1.44 -0.48,2.4 0,0.96 0,1.92 0.96,2.4 0.48,0.96 0.96,0.96 1.92,0.96 1.44,0 1.92,-0.48 2.88,-0.96 0.48,-0.96 0.96,-2.4 0.96,-3.84 0,-1.92 -0.48,-3.36 -0.96,-4.32 -0.96,-0.48 -1.92,-0.96 -2.88,-0.96 -0.96,0 -1.44,0 -1.92,0.48 -0.48,0.48 -0.96,0.96 -0.96,1.92 z m 4.32,4.32 c 0,0.48 0,0.96 -0.48,1.44 0,0.48 -0.48,0.48 -0.96,0.48 -0.48,0 -0.48,0 -0.96,-0.48 0,-0.48 0,-0.96 0,-1.44 0,-0.48 0,-0.96 0,-1.44 0.48,-0.48 0.96,-0.48 0.96,-0.48 0.48,0 0.96,0 0.96,0.48 0.48,0.48 0.48,0.96 0.48,1.44 z\" id=\"path146720\" style=\"fill:#000000;fill-opacity:1;fill-rule:nonzero;stroke:none\"/>\n",
      "Length of 'd' attribute: 4309\n",
      "Parent Element: g\n",
      "transform: translate(927.84,1135.2)\n",
      "neu berechnete Koordinaten: \n",
      "(927.84, 1135.2)\n",
      "Parent Element: g\n",
      "transform: translate(16.8)\n",
      "neu berechnete Koordinaten: \n",
      "(944.64, 1135.2)\n",
      "Parent Element: g\n",
      "transform: matrix(1.3333333,0,0,-1.3333333,0,2781.7333)\n",
      "neu berechnete Koordinaten: \n",
      "(1259.519968512, 1268.1333378399997)\n",
      "Parent Element: svg\n",
      "Parent Element: [document]\n",
      "Endgültige Startkoordinatne für path Element: \n",
      "(1259.519968512, 1268.1333378399997)\n"
     ]
    }
   ],
   "source": [
    "coordinates = find_mgrs_coordinates(\"data/2384-I.svg\")"
   ]
  },
  {
   "cell_type": "code",
   "execution_count": 27,
   "metadata": {},
   "outputs": [
    {
     "data": {
      "text/plain": [
       "{'path': <svg:path d=\"m 0,0 h 1.44 c 0.48,-0.48 0.48,-0.96 0.96,-0.96 0,-0.48 0.48,-0.48 0.48,-0.48 0.48,0 0.96,0 1.44,0.48 0,0.48 0,0.48 0,1.44 0,0.48 0,0.48 0,0.96 -0.48,0.48 -0.96,0.48 -0.96,0.48 -0.48,0 -0.96,0 -0.96,0 v 1.44 c 0.48,0 0.96,0 1.44,0.48 0,0 0.48,0.48 0.48,0.96 0,0 -0.48,0.48 -0.48,0.48 0,0.48 -0.48,0.48 -0.96,0.48 0,0 -0.48,0 -0.48,-0.48 C 1.92,5.28 1.92,4.8 1.92,4.32 L 0,4.8 c 0,0.48 0.48,0.96 0.48,1.44 0.48,0.48 0.48,0.48 0.96,0.96 0.48,0 0.96,0 1.44,0 0.96,0 1.92,0 2.4,-0.96 C 5.76,5.76 6.24,5.28 6.24,4.8 6.24,3.84 5.76,2.88 4.8,2.4 5.28,2.4 5.76,2.4 6.24,1.92 6.24,1.44 6.72,0.96 6.72,0 6.72,-0.48 6.24,-1.44 5.76,-1.92 4.8,-2.88 4.32,-2.88 3.36,-2.88 c -0.96,0 -1.92,0 -2.4,0.48 C 0.48,-1.92 0,-0.96 0,0 Z M 7.68,0 H 9.6 c 0,-0.48 0,-0.96 0.48,-0.96 0,-0.48 0.48,-0.48 0.96,-0.48 0.48,0 0.48,0 0.96,0.48 0.48,0.48 0.48,0.48 0.48,1.44 0,0.48 0,0.48 -0.48,0.96 -0.48,0.48 -0.48,0.48 -0.96,0.48 0,0 -0.48,0 -0.96,0 l 0.48,1.44 c 0.48,0 0.96,0 0.96,0.48 0.48,0 0.48,0.48 0.48,0.96 0,0 0,0.48 -0.48,0.48 0,0.48 -0.48,0.48 -0.48,0.48 -0.48,0 -0.96,0 -0.96,-0.48 C 9.6,5.28 9.6,4.8 9.6,4.32 L 7.68,4.8 c 0.48,0.48 0.48,0.96 0.48,1.44 0.48,0.48 0.96,0.48 1.44,0.96 0.48,0 0.96,0 1.44,0 0.96,0 1.44,0 2.4,-0.96 0.48,-0.48 0.48,-0.96 0.48,-1.44 0,-0.96 -0.48,-1.92 -1.44,-2.4 0.48,0 0.96,0 1.44,-0.48 C 14.4,1.44 14.4,0.96 14.4,0 c 0,-0.48 -0.48,-1.44 -0.96,-1.92 -0.48,-0.96 -1.44,-0.96 -2.4,-0.96 -0.96,0 -1.92,0 -2.4,0.48 C 8.16,-1.92 7.68,-0.96 7.68,0 Z M 18.24,-2.88 V 5.76 H 15.36 V 7.2 h 8.16 V 5.76 h -3.36 v -8.64 z m 7.68,0 -2.4,10.08 h 2.4 l 1.44,-6.72 1.92,6.72 h 2.4 L 33.6,0 35.04,7.2 h 1.92 l -2.4,-10.08 h -2.4 L 30.24,4.8 28.32,-2.88 Z m 12,0 V 7.2 h 2.4 V 2.88 l 3.84,4.32 h 2.88 L 43.2,3.36 47.04,-2.88 h -2.4 L 41.76,1.92 40.32,0 V -2.88 Z M 48,5.28 V 7.2 h 6.72 V 5.76 C 53.76,5.28 53.28,4.32 52.8,3.36 52.32,2.4 51.84,1.44 51.36,0 c 0,-0.96 -0.48,-1.92 -0.48,-2.88 h -1.44 c 0,1.44 0,2.88 0.48,4.32 0.48,1.44 1.44,2.88 2.4,3.84 z m 7.68,0 V 7.2 H 62.4 V 5.76 C 61.92,5.28 61.44,4.32 60.48,3.36 60,2.4 59.52,1.44 59.52,0 59.04,-0.96 59.04,-1.92 59.04,-2.88 h -1.92 c 0,1.44 0.48,2.88 0.96,4.32 0.48,1.44 0.96,2.88 1.92,3.84 z M 70.08,4.8 h -1.92 c 0,0 0,0.48 0,0.48 -0.48,0.48 -0.48,0.48 -0.96,0.48 -0.48,0 -0.96,0 -0.96,-0.48 -0.48,-0.48 -0.48,-1.44 -0.48,-2.4 0.48,0.48 0.96,0.96 1.44,0.96 0.96,0 1.92,-0.48 2.4,-0.96 0.48,-0.48 0.96,-1.44 0.96,-2.4 0,-0.96 -0.48,-1.92 -0.96,-2.4 -0.96,-0.96 -1.44,-0.96 -2.4,-0.96 -0.96,0 -1.92,0 -2.4,0.96 -0.96,0.96 -0.96,2.4 -0.96,3.84 0,1.92 0,3.36 0.96,4.32 0.48,0.48 1.44,0.96 2.4,0.96 0.96,0 1.44,0 1.92,-0.48 C 69.6,6.24 70.08,5.76 70.08,4.8 Z M 65.76,0.48 c 0,-0.48 0,-0.96 0.48,-1.44 0.48,-0.48 0.48,-0.48 0.96,-0.48 0.48,0 0.48,0 0.96,0.48 0,0 0.48,0.48 0.48,1.44 0,0.48 -0.48,0.96 -0.48,1.44 C 67.68,1.92 67.68,2.4 67.2,2.4 66.72,2.4 66.24,1.92 66.24,1.92 65.76,1.44 65.76,0.96 65.76,0.48 Z m 7.2,1.92 C 72.48,2.88 72.48,2.88 72,3.36 c 0,0.48 -0.48,0.96 -0.48,1.44 0,0.48 0.48,1.44 0.96,1.92 0.48,0.48 1.44,0.48 2.4,0.48 0.96,0 1.44,0 1.92,-0.48 0.96,-0.48 0.96,-1.44 0.96,-1.92 0,-0.48 0,-0.96 -0.48,-1.44 0,-0.48 -0.48,-0.48 -0.96,-0.96 0.48,0 0.96,-0.48 1.44,-0.96 0,-0.48 0.48,-0.96 0.48,-1.44 0,-0.96 -0.48,-1.44 -0.96,-2.4 -0.48,-0.48 -1.44,-0.48 -2.4,-0.48 -0.96,0 -1.92,0 -2.4,0.48 -0.48,0.48 -0.96,1.44 -0.96,2.4 0,0.48 0,0.96 0.48,1.44 0,0.48 0.48,0.96 0.96,0.96 z m 0.48,2.4 c 0,-0.48 0,-0.96 0.48,-0.96 0,-0.48 0.48,-0.48 0.96,-0.48 0.48,0 0.48,0 0.96,0.48 0,0 0,0.48 0,0.96 0,0 0,0.48 0,0.48 -0.48,0.48 -0.48,0.48 -0.96,0.48 -0.48,0 -0.96,0 -0.96,-0.48 -0.48,0 -0.48,-0.48 -0.48,-0.48 z m 0,-4.8 c 0,-0.48 0,-0.96 0.48,-0.96 0,-0.48 0.48,-0.48 0.96,-0.48 0.48,0 0.48,0 0.96,0.48 0,0 0.48,0.48 0.48,0.96 0,0.48 -0.48,0.96 -0.48,1.44 -0.48,0 -0.48,0.48 -0.96,0.48 C 74.4,1.92 73.92,1.44 73.92,1.44 73.44,0.96 73.44,0.48 73.44,0 Z\" id=\"path146708\" style=\"fill:#000000;fill-opacity:1;fill-rule:nonzero;stroke:none\"/>,\n",
       " 'coordinates': (504.31998739200003, 1334.0533361919997),\n",
       " 'svg_drawing': '<svg xmlns=\"http://www.w3.org/2000/svg\" width=\"80\" height=\"20\"><path d=\"m 0,0 h 1.44 c 0.48,-0.48 0.48,-0.96 0.96,-0.96 0,-0.48 0.48,-0.48 0.48,-0.48 0.48,0 0.96,0 1.44,0.48 0,0.48 0,0.48 0,1.44 0,0.48 0,0.48 0,0.96 -0.48,0.48 -0.96,0.48 -0.96,0.48 -0.48,0 -0.96,0 -0.96,0 v 1.44 c 0.48,0 0.96,0 1.44,0.48 0,0 0.48,0.48 0.48,0.96 0,0 -0.48,0.48 -0.48,0.48 0,0.48 -0.48,0.48 -0.96,0.48 0,0 -0.48,0 -0.48,-0.48 C 1.92,5.28 1.92,4.8 1.92,4.32 L 0,4.8 c 0,0.48 0.48,0.96 0.48,1.44 0.48,0.48 0.48,0.48 0.96,0.96 0.48,0 0.96,0 1.44,0 0.96,0 1.92,0 2.4,-0.96 C 5.76,5.76 6.24,5.28 6.24,4.8 6.24,3.84 5.76,2.88 4.8,2.4 5.28,2.4 5.76,2.4 6.24,1.92 6.24,1.44 6.72,0.96 6.72,0 6.72,-0.48 6.24,-1.44 5.76,-1.92 4.8,-2.88 4.32,-2.88 3.36,-2.88 c -0.96,0 -1.92,0 -2.4,0.48 C 0.48,-1.92 0,-0.96 0,0 Z M 7.68,0 H 9.6 c 0,-0.48 0,-0.96 0.48,-0.96 0,-0.48 0.48,-0.48 0.96,-0.48 0.48,0 0.48,0 0.96,0.48 0.48,0.48 0.48,0.48 0.48,1.44 0,0.48 0,0.48 -0.48,0.96 -0.48,0.48 -0.48,0.48 -0.96,0.48 0,0 -0.48,0 -0.96,0 l 0.48,1.44 c 0.48,0 0.96,0 0.96,0.48 0.48,0 0.48,0.48 0.48,0.96 0,0 0,0.48 -0.48,0.48 0,0.48 -0.48,0.48 -0.48,0.48 -0.48,0 -0.96,0 -0.96,-0.48 C 9.6,5.28 9.6,4.8 9.6,4.32 L 7.68,4.8 c 0.48,0.48 0.48,0.96 0.48,1.44 0.48,0.48 0.96,0.48 1.44,0.96 0.48,0 0.96,0 1.44,0 0.96,0 1.44,0 2.4,-0.96 0.48,-0.48 0.48,-0.96 0.48,-1.44 0,-0.96 -0.48,-1.92 -1.44,-2.4 0.48,0 0.96,0 1.44,-0.48 C 14.4,1.44 14.4,0.96 14.4,0 c 0,-0.48 -0.48,-1.44 -0.96,-1.92 -0.48,-0.96 -1.44,-0.96 -2.4,-0.96 -0.96,0 -1.92,0 -2.4,0.48 C 8.16,-1.92 7.68,-0.96 7.68,0 Z M 18.24,-2.88 V 5.76 H 15.36 V 7.2 h 8.16 V 5.76 h -3.36 v -8.64 z m 7.68,0 -2.4,10.08 h 2.4 l 1.44,-6.72 1.92,6.72 h 2.4 L 33.6,0 35.04,7.2 h 1.92 l -2.4,-10.08 h -2.4 L 30.24,4.8 28.32,-2.88 Z m 12,0 V 7.2 h 2.4 V 2.88 l 3.84,4.32 h 2.88 L 43.2,3.36 47.04,-2.88 h -2.4 L 41.76,1.92 40.32,0 V -2.88 Z M 48,5.28 V 7.2 h 6.72 V 5.76 C 53.76,5.28 53.28,4.32 52.8,3.36 52.32,2.4 51.84,1.44 51.36,0 c 0,-0.96 -0.48,-1.92 -0.48,-2.88 h -1.44 c 0,1.44 0,2.88 0.48,4.32 0.48,1.44 1.44,2.88 2.4,3.84 z m 7.68,0 V 7.2 H 62.4 V 5.76 C 61.92,5.28 61.44,4.32 60.48,3.36 60,2.4 59.52,1.44 59.52,0 59.04,-0.96 59.04,-1.92 59.04,-2.88 h -1.92 c 0,1.44 0.48,2.88 0.96,4.32 0.48,1.44 0.96,2.88 1.92,3.84 z M 70.08,4.8 h -1.92 c 0,0 0,0.48 0,0.48 -0.48,0.48 -0.48,0.48 -0.96,0.48 -0.48,0 -0.96,0 -0.96,-0.48 -0.48,-0.48 -0.48,-1.44 -0.48,-2.4 0.48,0.48 0.96,0.96 1.44,0.96 0.96,0 1.92,-0.48 2.4,-0.96 0.48,-0.48 0.96,-1.44 0.96,-2.4 0,-0.96 -0.48,-1.92 -0.96,-2.4 -0.96,-0.96 -1.44,-0.96 -2.4,-0.96 -0.96,0 -1.92,0 -2.4,0.96 -0.96,0.96 -0.96,2.4 -0.96,3.84 0,1.92 0,3.36 0.96,4.32 0.48,0.48 1.44,0.96 2.4,0.96 0.96,0 1.44,0 1.92,-0.48 C 69.6,6.24 70.08,5.76 70.08,4.8 Z M 65.76,0.48 c 0,-0.48 0,-0.96 0.48,-1.44 0.48,-0.48 0.48,-0.48 0.96,-0.48 0.48,0 0.48,0 0.96,0.48 0,0 0.48,0.48 0.48,1.44 0,0.48 -0.48,0.96 -0.48,1.44 C 67.68,1.92 67.68,2.4 67.2,2.4 66.72,2.4 66.24,1.92 66.24,1.92 65.76,1.44 65.76,0.96 65.76,0.48 Z m 7.2,1.92 C 72.48,2.88 72.48,2.88 72,3.36 c 0,0.48 -0.48,0.96 -0.48,1.44 0,0.48 0.48,1.44 0.96,1.92 0.48,0.48 1.44,0.48 2.4,0.48 0.96,0 1.44,0 1.92,-0.48 0.96,-0.48 0.96,-1.44 0.96,-1.92 0,-0.48 0,-0.96 -0.48,-1.44 0,-0.48 -0.48,-0.48 -0.96,-0.96 0.48,0 0.96,-0.48 1.44,-0.96 0,-0.48 0.48,-0.96 0.48,-1.44 0,-0.96 -0.48,-1.44 -0.96,-2.4 -0.48,-0.48 -1.44,-0.48 -2.4,-0.48 -0.96,0 -1.92,0 -2.4,0.48 -0.48,0.48 -0.96,1.44 -0.96,2.4 0,0.48 0,0.96 0.48,1.44 0,0.48 0.48,0.96 0.96,0.96 z m 0.48,2.4 c 0,-0.48 0,-0.96 0.48,-0.96 0,-0.48 0.48,-0.48 0.96,-0.48 0.48,0 0.48,0 0.96,0.48 0,0 0,0.48 0,0.96 0,0 0,0.48 0,0.48 -0.48,0.48 -0.48,0.48 -0.96,0.48 -0.48,0 -0.96,0 -0.96,-0.48 -0.48,0 -0.48,-0.48 -0.48,-0.48 z m 0,-4.8 c 0,-0.48 0,-0.96 0.48,-0.96 0,-0.48 0.48,-0.48 0.96,-0.48 0.48,0 0.48,0 0.96,0.48 0,0 0.48,0.48 0.48,0.96 0,0.48 -0.48,0.96 -0.48,1.44 -0.48,0 -0.48,0.48 -0.96,0.48 C 74.4,1.92 73.92,1.44 73.92,1.44 73.44,0.96 73.44,0.48 73.44,0 Z\" id=\"path146708\" style=\"fill:#000000;fill-opacity:1;fill-rule:nonzero;stroke:none\" transform=\"scale(1, -1) translate(0, -10)\"/></svg>',\n",
       " 'file_id': '2384-I_num_1'}"
      ]
     },
     "execution_count": 27,
     "metadata": {},
     "output_type": "execute_result"
    }
   ],
   "source": [
    "coordinates[0]"
   ]
  },
  {
   "cell_type": "markdown",
   "metadata": {},
   "source": [
    "# Now we create a picture of the svg path element to prepare for OCR"
   ]
  },
  {
   "cell_type": "code",
   "execution_count": 37,
   "metadata": {},
   "outputs": [],
   "source": [
    "# 1. we create an svg image from the coordinate\n",
    "# 2. convert the svg to png\n",
    "# 3. ocr on the png\n",
    "# 4. return coordinates as text\n",
    "\n",
    "def ocr_image(svg_path, file_id):\n",
    "    # Open the file in write mode and write the SVG content\n",
    "    with open(f\"data/ocr_images/{file_id}.svg\", 'w') as file:\n",
    "        file.write(svg_path)\n",
    "\n",
    "    # Convert SVG to PNG\n",
    "    cairosvg.svg2png(url = f\"data/ocr_images/{file_id}.svg\", write_to=f\"data/ocr_images/{file_id}.png\")\n",
    "\n",
    "    img = Image.open(f\"data/ocr_images/{file_id}.png\")\n",
    "    # Use Tesseract to do OCR on the image\n",
    "    text = pytesseract.image_to_string(img)\n",
    "    return text.strip()\n",
    "    "
   ]
  },
  {
   "cell_type": "code",
   "execution_count": 38,
   "metadata": {},
   "outputs": [
    {
     "name": "stdout",
     "output_type": "stream",
     "text": [
      "33TWK8769\n",
      "\f\n"
     ]
    },
    {
     "data": {
      "text/plain": [
       "'33TWK8769'"
      ]
     },
     "execution_count": 38,
     "metadata": {},
     "output_type": "execute_result"
    }
   ],
   "source": [
    "ocr_image(coordinates[1][\"svg_drawing\"], coordinates[1][\"file_id\"])"
   ]
  },
  {
   "cell_type": "code",
   "execution_count": 46,
   "metadata": {},
   "outputs": [
    {
     "name": "stdout",
     "output_type": "stream",
     "text": [
      "43.61108109713452, 18.38529256651145\n"
     ]
    }
   ],
   "source": [
    "import mgrs\n",
    "\n",
    "def convert_mgrs_to_latlon(mgrs_str):\n",
    "    m = mgrs.MGRS()\n",
    "    # Convert MGRS string to latitude and longitude\n",
    "    latlon = m.toLatLon(mgrs_str.encode('utf-8'))\n",
    "    return latlon\n",
    "\n",
    "# Example MGRS coordinate\n",
    "mgrs_coordinate = \"34TBP8932\"\n",
    "latlon = convert_mgrs_to_latlon(mgrs_coordinate)\n",
    "print(f\"{latlon[0]}, {latlon[1]}\")"
   ]
  },
  {
   "cell_type": "markdown",
   "metadata": {},
   "source": [
    "## find all used colors"
   ]
  },
  {
   "cell_type": "code",
   "execution_count": 39,
   "metadata": {},
   "outputs": [],
   "source": [
    "from bs4 import BeautifulSoup\n",
    "\n",
    "\n",
    "def find_all_used_colors(pdf):\n",
    "    # Open and read the SVG file\n",
    "    with open(pdf, 'r') as file:\n",
    "        svg_content = file.read()\n",
    "\n",
    "    soup = BeautifulSoup(svg_content, 'xml')  # Use 'xml' parser for parsing SVG\n",
    "\n",
    "\n",
    "    unique_colors = set()  # Set to store unique colors\n",
    "\n",
    "    for path in soup.find_all('path'):\n",
    "        style = path.get('style')  # Get the style attribute of the path\n",
    "        if style:\n",
    "            styles = style.split(';')  # Split style into individual properties\n",
    "            fill_style = [s for s in styles if 'fill:' in s]  # Find the fill style\n",
    "            if fill_style:\n",
    "                color = fill_style[0].split(':')[1].strip()  # Extract the color value\n",
    "                unique_colors.add(color)  # Add to set of unique colors\n",
    "\n",
    "    # Output the unique colors\n",
    "    return unique_colors\n"
   ]
  },
  {
   "cell_type": "markdown",
   "metadata": {},
   "source": [
    "## find yellow cross element"
   ]
  },
  {
   "cell_type": "code",
   "execution_count": 26,
   "metadata": {},
   "outputs": [
    {
     "name": "stdout",
     "output_type": "stream",
     "text": [
      "<svg:path d=\"m 0,0 -5.76,-0.96 1.44,-2.4 -2.88,0.96 -1.92,-1.44 v 1.92 h -1.92 L -9.6,0 -12,1.44 -9.12,1.92 -8.64,3.84 -7.68,2.4 -4.32,5.76 -5.76,1.92 Z\" id=\"path168\" style=\"fill:#ffff00;fill-opacity:1;fill-rule:nonzero;stroke:none\"/>\n",
      "<svg:path d=\"m 0,0 -5.76,-0.96 1.44,-2.4 -2.88,0.96 -1.92,-1.44 v 1.92 h -1.92 L -9.6,0 -12,1.44 -9.12,1.92 -8.64,3.84 -7.68,2.4 -4.32,5.76 -5.76,1.92 Z\" id=\"path180\" style=\"fill:#ffff00;fill-opacity:1;fill-rule:nonzero;stroke:none\"/>\n",
      "<svg:path d=\"m 0,0 -5.76,-0.96 1.44,-2.4 -2.88,0.96 -1.92,-1.44 v 1.92 h -1.92 L -9.6,0 -12,1.44 -9.12,1.92 -8.64,3.84 -7.68,2.4 -4.32,5.76 -5.76,1.92 Z\" id=\"path192\" style=\"fill:#ffff00;fill-opacity:1;fill-rule:nonzero;stroke:none\"/>\n",
      "<svg:path d=\"m 0,0 -5.76,-0.96 1.44,-2.4 -2.88,0.96 -1.92,-1.44 v 1.92 h -1.92 L -9.6,0 -12,1.44 -9.12,1.92 -8.64,3.84 -7.68,2.4 -4.32,5.76 -5.76,1.92 Z\" id=\"path204\" style=\"fill:#ffff00;fill-opacity:1;fill-rule:nonzero;stroke:none\"/>\n",
      "<svg:path d=\"m 0,0 -5.76,-0.96 1.44,-2.4 -2.88,0.96 -1.92,-1.44 v 1.92 h -1.92 L -9.6,0 -12,1.44 -9.12,1.92 -8.64,3.84 -7.68,2.4 -4.32,5.76 -5.76,1.92 Z\" id=\"path216\" style=\"fill:#ffff00;fill-opacity:1;fill-rule:nonzero;stroke:none\"/>\n",
      "<svg:path d=\"m 0,0 -5.76,-0.96 1.44,-2.4 -2.88,0.96 -1.92,-1.44 v 1.92 h -1.92 L -9.6,0 -12,1.44 -9.12,1.92 -8.64,3.84 -7.68,2.4 -4.32,5.76 -5.76,1.92 Z\" id=\"path228\" style=\"fill:#ffff00;fill-opacity:1;fill-rule:nonzero;stroke:none\"/>\n",
      "<svg:path d=\"m 0,0 -5.76,-0.96 1.44,-2.4 -2.88,0.96 -1.92,-1.44 v 1.92 h -1.92 L -9.6,0 -12,1.44 -9.12,1.92 -8.64,3.84 -7.68,2.4 -4.32,5.76 -5.76,1.92 Z\" id=\"path240\" style=\"fill:#ffff00;fill-opacity:1;fill-rule:nonzero;stroke:none\"/>\n",
      "<svg:path d=\"M 0,0 V 4.32 H -4.8 V 4.8 H 0 v 4.32 0 V 4.8 H 4.8 V 4.32 H 0 Z\" id=\"path64998\" style=\"fill:#ffff00;fill-opacity:1;fill-rule:nonzero;stroke:none\"/>\n",
      "<svg:path d=\"M 0,0 V 4.32 H -4.8 V 4.8 H 0 v 4.32 0 V 4.8 H 4.8 V 4.32 H 0 Z\" id=\"path65010\" style=\"fill:#ffff00;fill-opacity:1;fill-rule:nonzero;stroke:none\"/>\n",
      "<svg:path d=\"M 0,0 -0.96,-3.84 4.32,-5.76 -1.44,-6.72 0,-9.12 -2.4,-7.68 -4.32,-9.6 v 1.92 h -1.92 l 1.44,1.92 -2.4,1.44 2.88,0.48 v 1.92 l 1.44,-1.44 z\" id=\"path65392\" style=\"fill:#ffff00;fill-opacity:1;fill-rule:nonzero;stroke:none\"/>\n"
     ]
    }
   ],
   "source": [
    "\n",
    "soup = BeautifulSoup(svg_content, 'xml')\n",
    "\n",
    "target_color = '#ffff00'\n",
    "paths_with_target_color = []\n",
    "\n",
    "for path in soup.find_all('path'):\n",
    "    # Check the fill attribute directly\n",
    "    if path.get('fill') == target_color:\n",
    "        paths_with_target_color.append(path)\n",
    "\n",
    "    # Check within the style attribute\n",
    "    elif path.get('style'):\n",
    "        styles = dict(item.split(':') for item in path['style'].split(';') if item)\n",
    "        if 'fill' in styles and styles['fill'].strip() == target_color:\n",
    "            paths_with_target_color.append(path)\n",
    "\n",
    "# Output the paths or manipulate them as needed\n",
    "for path in paths_with_target_color:\n",
    "    print(path)"
   ]
  },
  {
   "cell_type": "markdown",
   "metadata": {},
   "source": []
  }
 ],
 "metadata": {
  "kernelspec": {
   "display_name": "mines",
   "language": "python",
   "name": "mines"
  },
  "language_info": {
   "codemirror_mode": {
    "name": "ipython",
    "version": 3
   },
   "file_extension": ".py",
   "mimetype": "text/x-python",
   "name": "python",
   "nbconvert_exporter": "python",
   "pygments_lexer": "ipython3",
   "version": "3.10.12"
  }
 },
 "nbformat": 4,
 "nbformat_minor": 2
}
