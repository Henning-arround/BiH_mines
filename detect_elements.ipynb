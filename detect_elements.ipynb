{
 "cells": [
  {
   "cell_type": "markdown",
   "metadata": {},
   "source": [
    "## Here we try to extract the MGRS (Military Grid Reference System) Coordinates from the svg element.\n",
    "\n",
    "We assume that the coordinates are created through path elements and display complex polygons as text. So we think the coordinates are just svg path elements with very long d attributes (between 3000 and 6000). After we found them we also try to reengineer the position of the element from the original svg. Therefore we look at the svg transformation from the parent elements of the specific path element which might be the coordinates. \n",
    "\n",
    "In the end we create a little png from the isolated svg path element and do OCR to get the Text machine readable from the svg path element. "
   ]
  },
  {
   "cell_type": "code",
   "execution_count": 52,
   "metadata": {},
   "outputs": [
    {
     "name": "stdout",
     "output_type": "stream",
     "text": [
      "<svg:path d=\"m 0,0 h 0.96 c 0.48,-0.96 0.48,-1.44 0.96,-1.44 0.48,-0.48 0.48,-0.48 0.96,-0.48 0.96,0 1.44,0 1.92,0.48 0,0.48 0.48,0.96 0.48,1.44 0,0.48 -0.48,0.96 -0.48,1.44 -0.48,0.48 -0.96,0.48 -1.44,0.48 -0.48,0 -0.48,0 -0.96,0 v 0.96 c 0,0 0,0 0.48,0 0.48,0 0.96,0.48 1.44,0.48 0,0.48 0.48,0.96 0.48,1.44 0,0.48 0,0.96 -0.48,0.96 C 3.84,6.24 3.36,6.24 2.88,6.24 2.4,6.24 2.4,6.24 1.92,5.76 1.44,5.76 1.44,5.28 1.44,4.32 L 0,4.8 C 0,5.28 0.48,6.24 0.96,6.72 1.44,7.2 2.4,7.2 2.88,7.2 c 0.48,0 1.44,0 1.92,-0.48 0,0 0.48,-0.48 0.96,-0.96 0,0 0,-0.48 0,-0.96 0,-0.48 0,-0.96 0,-1.44 C 5.28,3.36 5.28,2.88 4.8,2.4 5.28,2.4 5.76,2.4 5.76,1.92 6.24,1.44 6.72,0.96 6.72,0 6.72,-0.96 6.24,-1.44 5.76,-1.92 4.8,-2.88 3.84,-2.88 2.88,-2.88 2.4,-2.88 1.44,-2.88 0.96,-2.4 0.48,-1.92 0,-0.96 0,0 Z m 11.52,-2.88 v 2.4 H 7.2 V 0.48 L 12,7.2 h 0.96 V 0.48 h 1.44 v -0.96 h -1.44 v -2.4 z m 0,3.36 v 4.8 L 8.64,0.48 Z m 7.2,-3.36 V 6.24 H 15.36 V 7.2 h 8.16 V 6.24 h -3.36 v -9.12 z m 5.76,0 V 7.2 h 3.84 c 0.96,0 1.44,0 1.92,0 0.48,-0.48 0.96,-0.96 1.44,-0.96 0,-0.48 0,-0.96 0,-1.44 0,-0.48 0,-0.96 0,-1.44 C 31.2,2.88 30.72,2.88 30.24,2.4 31.2,2.4 31.68,1.92 31.68,1.44 32.16,0.96 32.16,0.48 32.16,0 c 0,-0.48 0,-0.96 0,-1.44 -0.48,0 -0.48,-0.48 -0.96,-0.96 0,0 -0.48,0 -0.96,-0.48 -0.48,0 -0.96,0 -1.44,0 z m 1.44,5.76 h 2.4 c 0.48,0 0.96,0 0.96,0.48 0.48,0 0.96,0 0.96,0.48 0,0 0.48,0.48 0.48,0.48 0,0.48 -0.48,0.96 -0.48,0.96 0,0.48 -0.48,0.48 -0.48,0.48 -0.48,0.48 -0.96,0.48 -1.92,0.48 h -1.92 z m 0,-4.32 h 2.88 c 0,0 0.48,0 0.48,0 0.48,0 0.96,0 0.96,0 0,0 0.48,0.48 0.48,0.48 0,0.48 0.48,0.48 0.48,0.96 0,0.48 -0.48,0.96 -0.48,0.96 0,0.48 -0.48,0.48 -0.96,0.48 0,0.48 -0.96,0.48 -1.44,0.48 h -2.4 z m 8.16,-1.44 V 7.2 h 3.84 c 0.96,0 1.44,0 1.44,0 0.48,0 0.96,-0.48 1.44,-0.48 0.48,-0.48 0.48,-0.48 0.96,-0.96 0,-0.48 0,-0.96 0,-1.44 0,-0.96 0,-1.44 -0.48,-2.4 C 40.8,1.44 39.36,1.44 37.92,1.44 h -2.4 v -4.32 z m 1.44,5.28 h 2.88 c 0.48,0 1.44,0 1.44,0.48 0.48,0.48 0.48,0.96 0.48,1.44 0,0.48 0,0.96 0,0.96 -0.48,0.48 -0.48,0.48 -0.96,0.48 0,0.48 -0.48,0.48 -1.44,0.48 h -2.4 z m 13.92,2.4 h -0.96 c 0,0.48 -0.48,0.96 -0.48,0.96 -0.48,0.48 -0.96,0.48 -1.44,0.48 -0.48,0 -0.48,0 -0.96,-0.48 -0.48,0 -0.48,-0.48 -0.96,-0.96 0,-0.48 -0.48,-1.44 -0.48,-2.4 0.48,0.48 0.96,0.96 1.44,0.96 0.48,0 0.48,0.48 0.96,0.48 0.96,0 1.92,-0.48 2.4,-0.96 C 49.44,2.4 49.92,1.44 49.92,0.48 49.92,0 49.44,-0.96 49.44,-1.44 48.96,-1.92 48.48,-2.4 48,-2.4 c -0.48,-0.48 -0.96,-0.48 -1.44,-0.48 -0.96,0 -1.92,0 -2.4,0.96 C 43.2,-0.96 43.2,0 43.2,1.92 c 0,1.92 0.48,3.36 0.96,4.32 0.48,0.48 1.44,0.96 2.4,0.96 0.96,0 1.44,0 1.92,-0.48 0.48,-0.48 0.96,-0.96 0.96,-1.92 z m -4.8,-4.32 c 0,-0.48 0,-0.96 0,-1.44 0.48,-0.48 0.48,-0.48 0.96,-0.96 0.48,0 0.48,0 0.96,0 0.48,0 0.96,0 1.44,0.48 0.48,0.48 0.48,0.96 0.48,1.92 0,0.48 0,0.96 -0.48,1.44 C 47.52,2.4 47.04,2.4 46.56,2.4 46.08,2.4 45.6,2.4 45.12,1.92 44.64,1.44 44.64,0.96 44.64,0.48 Z M 50.88,0 h 1.44 c 0,-0.96 0.48,-1.44 0.48,-1.44 0.48,-0.48 0.96,-0.48 1.44,-0.48 0.48,0 0.96,0 1.44,0.48 0.48,0.48 0.96,0.96 0.96,1.92 0,0.48 -0.48,1.44 -0.96,1.44 -0.48,0.48 -0.96,0.96 -1.44,0.96 -0.48,0 -0.96,0 -0.96,-0.48 -0.48,0 -0.48,-0.48 -0.96,-0.48 h -0.96 l 0.96,5.28 h 4.8 V 5.76 H 53.28 L 52.8,3.36 c 0.48,0.48 0.96,0.48 1.92,0.48 0.96,0 1.44,-0.48 1.92,-0.96 0.96,-0.48 0.96,-1.44 0.96,-2.4 0,-0.96 0,-1.44 -0.48,-2.4 -0.96,-0.48 -1.92,-0.96 -2.88,-0.96 -0.96,0 -1.44,0 -2.4,0.48 -0.48,0.48 -0.96,1.44 -0.96,2.4 z m 8.16,0 H 60 c 0.48,-0.96 0.48,-1.44 0.96,-1.44 0.48,-0.48 0.48,-0.48 0.96,-0.48 0.96,0 1.44,0 1.92,0.48 0,0.48 0.48,0.96 0.48,1.44 0,0.48 -0.48,0.96 -0.48,1.44 -0.48,0.48 -0.96,0.48 -1.44,0.48 -0.48,0 -0.48,0 -0.96,0 v 0.96 c 0,0 0,0 0.48,0 0.48,0 0.96,0.48 1.44,0.48 0,0.48 0.48,0.96 0.48,1.44 0,0.48 0,0.96 -0.48,0.96 -0.48,0.48 -0.96,0.48 -1.44,0.48 -0.48,0 -0.48,0 -0.96,-0.48 -0.48,0 -0.48,-0.48 -0.48,-1.44 L 59.04,4.8 c 0,0.48 0.48,1.44 0.96,1.92 0.48,0.48 1.44,0.48 1.92,0.48 0.48,0 1.44,0 1.92,-0.48 0,0 0.48,-0.48 0.96,-0.96 0,0 0,-0.48 0,-0.96 0,-0.48 0,-0.96 0,-1.44 -0.48,0 -0.48,-0.48 -0.96,-0.96 0.48,0 0.96,0 0.96,-0.48 0.48,-0.48 0.96,-0.96 0.96,-1.92 0,-0.96 -0.48,-1.44 -0.96,-1.92 -0.96,-0.96 -1.92,-0.96 -2.88,-0.96 -0.48,0 -1.44,0 -1.92,0.48 -0.48,0.48 -0.96,1.44 -0.96,2.4 z m 11.52,-2.88 v 2.4 h -4.32 v 0.96 l 4.8,6.72 H 72 V 0.48 h 1.44 V -0.48 H 72 v -2.4 z m 0,3.36 v 4.8 l -2.88,-4.8 z\" id=\"path59994\" style=\"fill:#000000;fill-opacity:1;fill-rule:nonzero;stroke:none\"/>\n",
      "Length of 'd' attribute: 4346\n",
      "Parent Element: g\n",
      "transform: translate(420.48,1101.6)\n",
      "neu berechnete Koordinaten: \n",
      "(420.48, 1101.6)\n",
      "Parent Element: g\n",
      "transform: translate(16.8)\n",
      "neu berechnete Koordinaten: \n",
      "(437.28000000000003, 1101.6)\n",
      "Parent Element: g\n",
      "transform: matrix(1.3333333,0,0,-1.3333333,0,2784)\n",
      "neu berechnete Koordinaten: \n",
      "(583.0399854240001, 1315.20003672)\n",
      "Parent Element: svg\n",
      "Parent Element: [document]\n",
      "Endgültige Startkoordinatne für path Element: \n",
      "(583.0399854240001, 1315.20003672)\n",
      "<svg:path d=\"m 0,0 h 0.96 c 0.48,-0.96 0.48,-1.44 0.96,-1.44 0.48,-0.48 0.48,-0.48 0.96,-0.48 0.96,0 1.44,0 1.92,0.48 0,0.48 0.48,0.96 0.48,1.44 0,0.48 -0.48,0.96 -0.48,1.44 -0.48,0.48 -0.96,0.48 -1.44,0.48 -0.48,0 -0.48,0 -0.96,0 v 0.96 c 0,0 0,0 0.48,0 0.48,0 0.96,0.48 1.44,0.48 0,0.48 0.48,0.96 0.48,1.44 0,0.48 0,0.96 -0.48,0.96 C 3.84,6.24 3.36,6.24 2.88,6.24 2.4,6.24 2.4,6.24 1.92,5.76 1.44,5.76 1.44,5.28 1.44,4.32 L 0,4.8 C 0,5.28 0.48,6.24 0.96,6.72 1.44,7.2 2.4,7.2 2.88,7.2 c 0.48,0 1.44,0 1.92,-0.48 0,0 0.48,-0.48 0.96,-0.96 0,0 0,-0.48 0,-0.96 0,-0.48 0,-0.96 0,-1.44 C 5.28,3.36 5.28,2.88 4.8,2.4 5.28,2.4 5.76,2.4 5.76,1.92 6.24,1.44 6.72,0.96 6.72,0 6.72,-0.96 6.24,-1.44 5.76,-1.92 4.8,-2.88 3.84,-2.88 2.88,-2.88 2.4,-2.88 1.44,-2.88 0.96,-2.4 0.48,-1.92 0,-0.96 0,0 Z m 11.52,-2.88 v 2.4 H 7.2 V 0.48 L 12,7.2 h 0.96 V 0.48 h 1.44 v -0.96 h -1.44 v -2.4 z m 0,3.36 v 4.8 L 8.64,0.48 Z m 7.2,-3.36 V 6.24 H 15.36 V 7.2 h 8.16 V 6.24 h -3.36 v -9.12 z m 5.76,0 V 7.2 h 3.84 c 0.96,0 1.44,0 1.92,0 0.48,-0.48 0.96,-0.96 1.44,-0.96 0,-0.48 0,-0.96 0,-1.44 0,-0.48 0,-0.96 0,-1.44 C 31.2,2.88 30.72,2.88 30.24,2.4 31.2,2.4 31.68,1.92 31.68,1.44 32.16,0.96 32.16,0.48 32.16,0 c 0,-0.48 0,-0.96 0,-1.44 -0.48,0 -0.48,-0.48 -0.96,-0.96 0,0 -0.48,0 -0.96,-0.48 -0.48,0 -0.96,0 -1.44,0 z m 1.44,5.76 h 2.4 c 0.48,0 0.96,0 0.96,0.48 0.48,0 0.96,0 0.96,0.48 0,0 0.48,0.48 0.48,0.48 0,0.48 -0.48,0.96 -0.48,0.96 0,0.48 -0.48,0.48 -0.48,0.48 -0.48,0.48 -0.96,0.48 -1.92,0.48 h -1.92 z m 0,-4.32 h 2.88 c 0,0 0.48,0 0.48,0 0.48,0 0.96,0 0.96,0 0,0 0.48,0.48 0.48,0.48 0,0.48 0.48,0.48 0.48,0.96 0,0.48 -0.48,0.96 -0.48,0.96 0,0.48 -0.48,0.48 -0.96,0.48 0,0.48 -0.96,0.48 -1.44,0.48 h -2.4 z m 8.16,-1.44 V 7.2 h 3.84 c 0.96,0 1.44,0 1.44,0 0.48,0 0.96,-0.48 1.44,-0.48 0.48,-0.48 0.48,-0.48 0.96,-0.96 0,-0.48 0,-0.96 0,-1.44 0,-0.96 0,-1.44 -0.48,-2.4 C 40.8,1.44 39.36,1.44 37.92,1.44 h -2.4 v -4.32 z m 1.44,5.28 h 2.88 c 0.48,0 1.44,0 1.44,0.48 0.48,0.48 0.48,0.96 0.48,1.44 0,0.48 0,0.96 0,0.96 -0.48,0.48 -0.48,0.48 -0.96,0.48 0,0.48 -0.48,0.48 -1.44,0.48 h -2.4 z M 43.2,5.76 V 7.2 h 6.72 V 6.24 C 48.96,5.28 48.48,4.8 48,3.36 47.04,2.4 46.56,0.96 46.56,0 46.08,-0.96 46.08,-1.92 46.08,-2.88 h -1.44 c 0,0.96 0,1.92 0.48,2.88 0.48,0.96 0.96,2.4 1.44,3.36 0.48,0.96 0.96,1.92 1.44,2.4 z M 50.88,0 h 1.44 c 0,-0.96 0.48,-1.44 0.48,-1.44 0.48,-0.48 0.96,-0.48 1.44,-0.48 0.48,0 0.96,0 1.44,0.48 0.48,0.48 0.96,0.96 0.96,1.92 0,0.48 -0.48,1.44 -0.96,1.44 -0.48,0.48 -0.96,0.96 -1.44,0.96 -0.48,0 -0.96,0 -0.96,-0.48 -0.48,0 -0.48,-0.48 -0.96,-0.48 h -0.96 l 0.96,5.28 h 4.8 V 5.76 H 53.28 L 52.8,3.36 c 0.48,0.48 0.96,0.48 1.92,0.48 0.96,0 1.44,-0.48 1.92,-0.96 0.96,-0.48 0.96,-1.44 0.96,-2.4 0,-0.96 0,-1.44 -0.48,-2.4 -0.96,-0.48 -1.92,-0.96 -2.88,-0.96 -0.96,0 -1.44,0 -2.4,0.48 -0.48,0.48 -0.96,1.44 -0.96,2.4 z m 8.16,0 H 60 c 0.48,-0.96 0.48,-1.44 0.96,-1.44 0.48,-0.48 0.48,-0.48 0.96,-0.48 0.96,0 1.44,0 1.92,0.48 0,0.48 0.48,0.96 0.48,1.44 0,0.48 -0.48,0.96 -0.48,1.44 -0.48,0.48 -0.96,0.48 -1.44,0.48 -0.48,0 -0.48,0 -0.96,0 v 0.96 c 0,0 0,0 0.48,0 0.48,0 0.96,0.48 1.44,0.48 0,0.48 0.48,0.96 0.48,1.44 0,0.48 0,0.96 -0.48,0.96 -0.48,0.48 -0.96,0.48 -1.44,0.48 -0.48,0 -0.48,0 -0.96,-0.48 -0.48,0 -0.48,-0.48 -0.48,-1.44 L 59.04,4.8 c 0,0.48 0.48,1.44 0.96,1.92 0.48,0.48 1.44,0.48 1.92,0.48 0.48,0 1.44,0 1.92,-0.48 0,0 0.48,-0.48 0.96,-0.96 0,0 0,-0.48 0,-0.96 0,-0.48 0,-0.96 0,-1.44 -0.48,0 -0.48,-0.48 -0.96,-0.96 0.48,0 0.96,0 0.96,-0.48 0.48,-0.48 0.96,-0.96 0.96,-1.92 0,-0.96 -0.48,-1.44 -0.96,-1.92 -0.96,-0.96 -1.92,-0.96 -2.88,-0.96 -0.48,0 -1.44,0 -1.92,0.48 -0.48,0.48 -0.96,1.44 -0.96,2.4 z m 11.52,-2.88 v 2.4 h -4.32 v 0.96 l 4.8,6.72 H 72 V 0.48 h 1.44 V -0.48 H 72 v -2.4 z m 0,3.36 v 4.8 l -2.88,-4.8 z\" id=\"path60006\" style=\"fill:#000000;fill-opacity:1;fill-rule:nonzero;stroke:none\"/>\n",
      "Length of 'd' attribute: 3730\n",
      "Parent Element: g\n",
      "transform: translate(985.92,1121.28)\n",
      "neu berechnete Koordinaten: \n",
      "(985.92, 1121.28)\n",
      "Parent Element: g\n",
      "transform: translate(16.8)\n",
      "neu berechnete Koordinaten: \n",
      "(1002.7199999999999, 1121.28)\n",
      "Parent Element: g\n",
      "transform: matrix(1.3333333,0,0,-1.3333333,0,2784)\n",
      "neu berechnete Koordinaten: \n",
      "(1336.959966576, 1288.960037376)\n",
      "Parent Element: svg\n",
      "Parent Element: [document]\n",
      "Endgültige Startkoordinatne für path Element: \n",
      "(1336.959966576, 1288.960037376)\n"
     ]
    }
   ],
   "source": [
    "from bs4 import BeautifulSoup\n",
    "\n",
    "# Open and read the SVG file\n",
    "with open('2782_3.svg', 'r') as file:\n",
    "    svg_content = file.read()\n",
    "\n",
    "# Parse the SVG content using BeautifulSoup with lxml's XML parser\n",
    "soup = BeautifulSoup(svg_content, 'xml')\n",
    "min_length = 2000\n",
    "max_length = 6000\n",
    "\n",
    "svg_elements = []\n",
    "\n",
    "for path in soup.find_all('path'):\n",
    "    d_length = len(path.get('d', ''))  # Get the length of the `d` attribute\n",
    "    if min_length <= d_length <= max_length:\n",
    "        svg_elements.append(path)\n",
    "\n",
    "\n",
    "#military grid reference system\n",
    "mgrs_coordinates = []\n",
    "\n",
    "\n",
    "# Output the paths or manipulate them as needed\n",
    "for path in svg_elements:\n",
    "    print(path)\n",
    "    print(\"Length of 'd' attribute:\", len(path['d']))\n",
    "    # Traverse up the tree to print parent elements and their attributes\n",
    "    parent = path.parent\n",
    "\n",
    "    start_coordinates_path_element = ()\n",
    "\n",
    "    while parent:\n",
    "        print(\"Parent Element:\", parent.name)\n",
    "        for attribute, value in parent.attrs.items():\n",
    "\n",
    "            if attribute == \"transform\":\n",
    "                \n",
    "                print(f\"{attribute}: {value}\")\n",
    "                # here we extract the start coordinate information  for the path element out of the transform attributes from the svg parent elements\n",
    "                transformations = value.split(\"(\")[-1].split(\")\")[0].split(\",\")\n",
    "                # if attribute transform has 1 or 2 elements its just a relocation (the function translate) of the coordinates in either x or x and y direction\n",
    "                # if attribute transform has 6 elements its the function matrix. Here is what each position does:\n",
    "                # 1. scaling x coordinates\n",
    "                # 2. skewing transformation alongside x axis\n",
    "                # 3. skewing transformation alongside y axis\n",
    "                # 4. scaling y coordinates \n",
    "                # 5. translation in x direction\n",
    "                # 6. translation in y direction\n",
    "\n",
    "                if len(transformations) == 2:\n",
    "                    start_coordinates_path_element = (float(transformations[0]), float(transformations[1]))\n",
    "            \n",
    "                elif len(transformations) == 1:\n",
    "                    start_coordinates_path_element = (start_coordinates_path_element[0] + float(transformations[0]) , start_coordinates_path_element[1])\n",
    "\n",
    "                elif len(transformations) == 6:\n",
    "\n",
    "                    #1. scaling x coordinates\n",
    "                    start_coordinates_path_element =  (start_coordinates_path_element[0] * float(transformations[0]), start_coordinates_path_element[1])\n",
    "\n",
    "                    #4. scaling y coordinates and 6. translate in y directio \n",
    "                    start_coordinates_path_element = (start_coordinates_path_element[0], (float(transformations[3]) * start_coordinates_path_element[1]) + float(transformations[5]) )\n",
    "\n",
    "\n",
    "                print(\"neu berechnete Koordinaten: \")\n",
    "                print(start_coordinates_path_element)\n",
    "        \n",
    "        parent = parent.parent\n",
    "    print(\"Endgültige Startkoordinatne für path Element: \")\n",
    "    print(start_coordinates_path_element)\n",
    "    \n",
    "    \n",
    "    #now we manipulate the svg path element in a way that we can create a picture out of it for OCR\n",
    "\n",
    "    svg_drawing = \"<\" + (str(path).split(\"/>\")[0] + ' transform=\"scale(1, -1) translate(0, -10)\"' + \"/>\").split(\"svg:\")[-1] \n",
    "    svg_drawing = '<svg xmlns=\"http://www.w3.org/2000/svg\" width=\"80\" height=\"20\">' + svg_drawing + '</svg>'\n",
    "\n",
    "    mgrs_coordinates.append({\"path\" : path, \"coordinates\": start_coordinates_path_element, \"svg_drawing\": svg_drawing})\n"
   ]
  },
  {
   "cell_type": "markdown",
   "metadata": {},
   "source": [
    "# Now we create a picture of the svg path element to prepare for OCR"
   ]
  },
  {
   "cell_type": "code",
   "execution_count": 55,
   "metadata": {},
   "outputs": [],
   "source": [
    "# Open the file in write mode and write the SVG content\n",
    "with open(\"test.svg\", 'w') as file:\n",
    "    file.write(mgrs_coordinates[0][\"svg_drawing\"])\n",
    "\n",
    "import cairosvg\n",
    "\n",
    "# Convert SVG to PNG\n",
    "cairosvg.svg2png(url='test.svg', write_to='test.png')"
   ]
  },
  {
   "cell_type": "markdown",
   "metadata": {},
   "source": [
    "# Test OCT with tesseract"
   ]
  },
  {
   "cell_type": "code",
   "execution_count": 56,
   "metadata": {},
   "outputs": [
    {
     "name": "stdout",
     "output_type": "stream",
     "text": [
      "34TBP6534\n",
      "\f\n"
     ]
    }
   ],
   "source": [
    "import pytesseract\n",
    "from PIL import Image\n",
    "\n",
    "# Function to apply OCR on an image\n",
    "def apply_ocr(image_path):\n",
    "    # Open the image\n",
    "    img = Image.open(image_path)\n",
    "    # Use Tesseract to do OCR on the image\n",
    "    text = pytesseract.image_to_string(img)\n",
    "    return text\n",
    "\n",
    "# Apply OCR on the converted image\n",
    "extracted_text = apply_ocr('test.png')\n",
    "print(extracted_text)"
   ]
  },
  {
   "cell_type": "markdown",
   "metadata": {},
   "source": [
    "## Understand svg path structure with its parent elements\n",
    "\n",
    "So this is my svg: \n",
    "```\n",
    "<svg xmlns=\"http://www.w3.org/2000/svg\" width = \"2016\" height= \"2784\" viewBox= \"0 0 2016 2784\">\n",
    "  <g transform= \"matrix(1.3333333,0,0,-1.3333333,0,2784)\">\n",
    "    <g\n",
    "       id=\"g60002\"\n",
    "       transform=\"translate(16.8)\"><g\n",
    "         id=\"g60004\"\n",
    "         transform=\"translate(985.92,1121.28)\">\n",
    "<path d=\"m 0,0 h 0.96 c 0.48,-0.96 0.48,-1.44 0.96,-1.44 0.48,-0.48 0.48,-0.48 0.96,-0.48 0.96,0 1.44,0 1.92,0.48 0,0.48 0.48,0.96 0.48,1.44 0,0.48 -0.48,0.96 -0.48,1.44 -0.48,0.48 -0.96,0.48 -1.44,0.48 -0.48,0 -0.48,0 -0.96,0 v 0.96 c 0,0 0,0 0.48,0 0.48,0 0.96,0.48 1.44,0.48 0,0.48 0.48,0.96 0.48,1.44 0,0.48 0,0.96 -0.48,0.96 C 3.84,6.24 3.36,6.24 2.88,6.24 2.4,6.24 2.4,6.24 1.92,5.76 1.44,5.76 1.44,5.28 1.44,4.32 L 0,4.8 C 0,5.28 0.48,6.24 0.96,6.72 1.44,7.2 2.4,7.2 2.88,7.2z\" id=\"path60006\" style=\"fill:#000000;fill-opacity:1;fill-rule:nonzero;stroke:none\"/></g></g></g>\n",
    "</svg>\"\n",
    "```\n",
    "Now out of this information can you calculate me the coordinates at which point in the plane the path element starts?\n",
    "\n",
    "To find the coordinates at which the ```<path>``` element starts within your SVG, we need to understand and apply the transformations that have been defined in your SVG markup. The transformations are hierarchical and apply from outer to inner groups, affecting all contained elements.\n",
    "\n",
    "Here's the breakdown of the transformations applied:\n",
    "Initial SVG Setup\n",
    "\n",
    "    SVG Dimensions: Width = 2016, Height = 2784\n",
    "    ViewBox: \"0 0 2016 2784\"\n",
    "\n",
    "Group Transformations\n",
    "\n",
    "    First Group (<g>) Transformation: matrix(1.3333333,0,0,-1.3333333,0,2784)\n",
    "        This scales the x-coordinates by about 33.33% (1.3333333 times) and the y-coordinates similarly, but flips the y-axis (since the scale factor is negative) and then translates the y-coordinates down by 2784 units.\n",
    "\n",
    "    Second Group (<g id=\"g60002\">) Transformation: translate(16.8)\n",
    "        This translates everything within this group by 16.8 units to the right along the x-axis.\n",
    "\n",
    "    Third Group (<g id=\"g60004\">) Transformation: translate(985.92, 1121.28)\n",
    "        This translates everything within this group by 985.92 units to the right and 1121.28 units down.\n",
    "\n",
    "Path Element\n",
    "\n",
    "    Path Start: m 0,0\n",
    "        This command starts the path at coordinate (0,0) relative to its immediate positioning context, which is affected by all the above transformations.\n",
    "\n",
    "Calculating Global Position\n",
    "\n",
    "To calculate the effective starting position of the path, we need to consider all the transformations. We'll start from the local coordinate (0,0) defined by the <path> element and transform it step-by-step through the transformations up to the global SVG coordinates:\n",
    "\n",
    "    Apply the translations from the groups: Starting from (0,0), translate by the amounts specified:\n",
    "        From the innermost group: (0,0) + (985.92, 1121.28) = (985.92, 1121.28)\n",
    "        From the second group: (985.92, 1121.28) + (16.8, 0) = (1002.72, 1121.28)\n",
    "\n",
    "    Apply the matrix transformation:\n",
    "        Scale x by 1.3333333: 1002.72×1.33333331002.72×1.3333333\n",
    "        Scale y by -1.3333333 and then translate by 2784: 1121.28×−1.3333333+27841121.28×−1.3333333+2784\n",
    "\n",
    "We'll calculate these final global coordinates.\n",
    "\n",
    "The effective global coordinates at which the ```<path> ``` element starts in your SVG are approximately (1336.96,1289.96)(1336.96,1289.96). These coordinates are in the SVG's coordinate system, after applying all the specified transformations."
   ]
  },
  {
   "cell_type": "markdown",
   "metadata": {},
   "source": [
    "## find all used colors"
   ]
  },
  {
   "cell_type": "code",
   "execution_count": 25,
   "metadata": {},
   "outputs": [
    {
     "name": "stdout",
     "output_type": "stream",
     "text": [
      "{'#00ffff', '#00ff00', 'none', '#ff0000', '#000000', '#ffffff', '#ffff00'}\n"
     ]
    }
   ],
   "source": [
    "from bs4 import BeautifulSoup\n",
    "\n",
    "# Open and read the SVG file\n",
    "with open('2681_2.svg', 'r') as file:\n",
    "    svg_content = file.read()\n",
    "\n",
    "soup = BeautifulSoup(svg_content, 'xml')  # Use 'xml' parser for parsing SVG\n",
    "\n",
    "\n",
    "unique_colors = set()  # Set to store unique colors\n",
    "\n",
    "for path in soup.find_all('path'):\n",
    "    style = path.get('style')  # Get the style attribute of the path\n",
    "    if style:\n",
    "        styles = style.split(';')  # Split style into individual properties\n",
    "        fill_style = [s for s in styles if 'fill:' in s]  # Find the fill style\n",
    "        if fill_style:\n",
    "            color = fill_style[0].split(':')[1].strip()  # Extract the color value\n",
    "            unique_colors.add(color)  # Add to set of unique colors\n",
    "\n",
    "# Output the unique colors\n",
    "print(unique_colors)"
   ]
  },
  {
   "cell_type": "markdown",
   "metadata": {},
   "source": [
    "## find yellow cross element"
   ]
  },
  {
   "cell_type": "code",
   "execution_count": 26,
   "metadata": {},
   "outputs": [
    {
     "name": "stdout",
     "output_type": "stream",
     "text": [
      "<svg:path d=\"m 0,0 -5.76,-0.96 1.44,-2.4 -2.88,0.96 -1.92,-1.44 v 1.92 h -1.92 L -9.6,0 -12,1.44 -9.12,1.92 -8.64,3.84 -7.68,2.4 -4.32,5.76 -5.76,1.92 Z\" id=\"path168\" style=\"fill:#ffff00;fill-opacity:1;fill-rule:nonzero;stroke:none\"/>\n",
      "<svg:path d=\"m 0,0 -5.76,-0.96 1.44,-2.4 -2.88,0.96 -1.92,-1.44 v 1.92 h -1.92 L -9.6,0 -12,1.44 -9.12,1.92 -8.64,3.84 -7.68,2.4 -4.32,5.76 -5.76,1.92 Z\" id=\"path180\" style=\"fill:#ffff00;fill-opacity:1;fill-rule:nonzero;stroke:none\"/>\n",
      "<svg:path d=\"m 0,0 -5.76,-0.96 1.44,-2.4 -2.88,0.96 -1.92,-1.44 v 1.92 h -1.92 L -9.6,0 -12,1.44 -9.12,1.92 -8.64,3.84 -7.68,2.4 -4.32,5.76 -5.76,1.92 Z\" id=\"path192\" style=\"fill:#ffff00;fill-opacity:1;fill-rule:nonzero;stroke:none\"/>\n",
      "<svg:path d=\"m 0,0 -5.76,-0.96 1.44,-2.4 -2.88,0.96 -1.92,-1.44 v 1.92 h -1.92 L -9.6,0 -12,1.44 -9.12,1.92 -8.64,3.84 -7.68,2.4 -4.32,5.76 -5.76,1.92 Z\" id=\"path204\" style=\"fill:#ffff00;fill-opacity:1;fill-rule:nonzero;stroke:none\"/>\n",
      "<svg:path d=\"m 0,0 -5.76,-0.96 1.44,-2.4 -2.88,0.96 -1.92,-1.44 v 1.92 h -1.92 L -9.6,0 -12,1.44 -9.12,1.92 -8.64,3.84 -7.68,2.4 -4.32,5.76 -5.76,1.92 Z\" id=\"path216\" style=\"fill:#ffff00;fill-opacity:1;fill-rule:nonzero;stroke:none\"/>\n",
      "<svg:path d=\"m 0,0 -5.76,-0.96 1.44,-2.4 -2.88,0.96 -1.92,-1.44 v 1.92 h -1.92 L -9.6,0 -12,1.44 -9.12,1.92 -8.64,3.84 -7.68,2.4 -4.32,5.76 -5.76,1.92 Z\" id=\"path228\" style=\"fill:#ffff00;fill-opacity:1;fill-rule:nonzero;stroke:none\"/>\n",
      "<svg:path d=\"m 0,0 -5.76,-0.96 1.44,-2.4 -2.88,0.96 -1.92,-1.44 v 1.92 h -1.92 L -9.6,0 -12,1.44 -9.12,1.92 -8.64,3.84 -7.68,2.4 -4.32,5.76 -5.76,1.92 Z\" id=\"path240\" style=\"fill:#ffff00;fill-opacity:1;fill-rule:nonzero;stroke:none\"/>\n",
      "<svg:path d=\"M 0,0 V 4.32 H -4.8 V 4.8 H 0 v 4.32 0 V 4.8 H 4.8 V 4.32 H 0 Z\" id=\"path64998\" style=\"fill:#ffff00;fill-opacity:1;fill-rule:nonzero;stroke:none\"/>\n",
      "<svg:path d=\"M 0,0 V 4.32 H -4.8 V 4.8 H 0 v 4.32 0 V 4.8 H 4.8 V 4.32 H 0 Z\" id=\"path65010\" style=\"fill:#ffff00;fill-opacity:1;fill-rule:nonzero;stroke:none\"/>\n",
      "<svg:path d=\"M 0,0 -0.96,-3.84 4.32,-5.76 -1.44,-6.72 0,-9.12 -2.4,-7.68 -4.32,-9.6 v 1.92 h -1.92 l 1.44,1.92 -2.4,1.44 2.88,0.48 v 1.92 l 1.44,-1.44 z\" id=\"path65392\" style=\"fill:#ffff00;fill-opacity:1;fill-rule:nonzero;stroke:none\"/>\n"
     ]
    }
   ],
   "source": [
    "\n",
    "soup = BeautifulSoup(svg_content, 'xml')\n",
    "\n",
    "target_color = '#ffff00'\n",
    "paths_with_target_color = []\n",
    "\n",
    "for path in soup.find_all('path'):\n",
    "    # Check the fill attribute directly\n",
    "    if path.get('fill') == target_color:\n",
    "        paths_with_target_color.append(path)\n",
    "\n",
    "    # Check within the style attribute\n",
    "    elif path.get('style'):\n",
    "        styles = dict(item.split(':') for item in path['style'].split(';') if item)\n",
    "        if 'fill' in styles and styles['fill'].strip() == target_color:\n",
    "            paths_with_target_color.append(path)\n",
    "\n",
    "# Output the paths or manipulate them as needed\n",
    "for path in paths_with_target_color:\n",
    "    print(path)"
   ]
  },
  {
   "cell_type": "markdown",
   "metadata": {},
   "source": []
  }
 ],
 "metadata": {
  "kernelspec": {
   "display_name": "mines",
   "language": "python",
   "name": "mines"
  },
  "language_info": {
   "codemirror_mode": {
    "name": "ipython",
    "version": 3
   },
   "file_extension": ".py",
   "mimetype": "text/x-python",
   "name": "python",
   "nbconvert_exporter": "python",
   "pygments_lexer": "ipython3",
   "version": "3.10.12"
  }
 },
 "nbformat": 4,
 "nbformat_minor": 2
}
